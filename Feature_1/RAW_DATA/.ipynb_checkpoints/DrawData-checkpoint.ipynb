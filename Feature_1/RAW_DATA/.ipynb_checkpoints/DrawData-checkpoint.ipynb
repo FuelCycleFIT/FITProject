{
 "cells": [
  {
   "cell_type": "code",
   "execution_count": 8,
   "metadata": {},
   "outputs": [],
   "source": [
    "import matplotlib.pyplot as plt\n",
    "import numpy as np"
   ]
  },
  {
   "cell_type": "markdown",
   "metadata": {},
   "source": [
    "# 1. PWR\n",
    "\n",
    "## 1.0 Reactor Data\n",
    "\n",
    "### PWR - CLASS\n",
    "\n",
    "    - 17x17 infinite assembly\n",
    "    - Neural network prediction of the k$_{inf}$\n",
    "    - k$_{threshold}$ is 1.034\n",
    "    - Heavy mass: 72 tons\n",
    "    - Thermal power: 3 GWth\n",
    "    - Loading factor: 75%\n",
    "    - Irradiation time: 3 years that correspond to a burn-up closed to 34 GWd/t\n",
    "\n",
    "### PWR - Tr_Evol\n",
    "\n",
    "    - Thermal_power_(GW) : 3.0\n",
    "    - Electrical_power_(GW) : 1.0\n",
    "    - Load_factor : 0.9\n",
    "    - Core_mass_(tHM) : 72.0\n",
    "    - Burn_up_(GWd/tHM) : 41\n",
    "\n",
    "### PWR - ANICCA\n",
    "\n",
    "    - Fuel Heavy Mass: 22.2908 t\n",
    "    - 38.156 GWd/t\n",
    "    - Load Factor : 90%\n",
    "    - Thermal Power : 3 GWth"
   ]
  },
  {
   "cell_type": "markdown",
   "metadata": {},
   "source": [
    "### Reactor Calculation Data"
   ]
  },
  {
   "cell_type": "code",
   "execution_count": 9,
   "metadata": {},
   "outputs": [],
   "source": []
  },
  {
   "cell_type": "markdown",
   "metadata": {},
   "source": [
    "## 1.1 Loading Data files and Variable declaration\n",
    "### NICO / CLASS"
   ]
  },
  {
   "cell_type": "code",
   "execution_count": 96,
   "metadata": {},
   "outputs": [],
   "source": [
    "def load_class_pwr_data(fml_file = 'NICO/PWR_MOX_FLM.dat',  ff_file = 'NICO/PWR_MOX_FF.dat'):\n",
    "    M_CLASS_FLM = np.loadtxt(fml_file)\n",
    "    M_CLASS_FF = np.loadtxt(ff_file)\n",
    "\n",
    "    M_CLASS_FLM_BOC_FPu = M_CLASS_FLM[:,5]/(M_CLASS_FLM[:,5]+M_CLASS_FLM[:,1])\n",
    "    M_CLASS_FLM_EOC_FPu = M_CLASS_FLM[:,6]/(M_CLASS_FLM[:,5]+M_CLASS_FLM[:,1])\n",
    "    \n",
    "    M_CLASS_BOC_MUPu = M_CLASS_FLM[:,5]+M_CLASS_FLM[:,1]\n",
    "    \n",
    "    M_CLASS_FF_BOC_FPu = M_CLASS_FF[:,5]/(M_CLASS_FF[:,5]+M_CLASS_FF[:,1])\n",
    "    M_CLASS_FF_EOC_FPu = M_CLASS_FF[:,6]/(M_CLASS_FF[:,5]+M_CLASS_FF[:,1])\n",
    "    return M_CLASS_FLM_BOC_FPu, M_CLASS_FLM_EOC_FPu, M_CLASS_FF_BOC_FPu, M_CLASS_FF_EOC_FPu, M_CLASS_BOC_MUPu"
   ]
  },
  {
   "cell_type": "markdown",
   "metadata": {},
   "source": [
    "### YVAN / ANICCA"
   ]
  },
  {
   "cell_type": "code",
   "execution_count": 11,
   "metadata": {},
   "outputs": [],
   "source": [
    "def load_anica_pwr_data(fml_file = 'YVAN/PWR_MOX_FLM',  ff_file = 'YVAN/PWR_MOX_FF'):\n",
    "\n",
    "    M_ANICCA_FLM_BOC = np.loadtxt( fml_file + '_BOC.dat')\n",
    "    M_ANICCA_FLM_EOC = np.loadtxt( fml_file + '_EOC.dat')\n",
    "    M_ANICCA_FF_BOC = np.loadtxt( ff_file + '_BOC.dat')\n",
    "    M_ANICCA_FF_EOC = np.loadtxt( ff_file + '_EOC.dat')\n",
    "\n",
    "    M_ANICCA_FLM_BOC_FPu = M_ANICCA_FLM_BOC[:,2]\n",
    "    M_ANICCA_FLM_EOC_FPu = M_ANICCA_FLM_EOC[:,2]\n",
    "\n",
    "    M_ANICCA_FF_BOC_FPu = M_ANICCA_FF_BOC[:,2]\n",
    "    M_ANICCA_FF_EOC_FPu = M_ANICCA_FF_EOC[:,2]\n",
    "\n",
    "    return M_ANICCA_FLM_BOC_FPu, M_ANICCA_FLM_EOC_FPu, M_ANICCA_FF_BOC_FPu, M_ANICCA_FF_EOC_FPu"
   ]
  },
  {
   "cell_type": "markdown",
   "metadata": {},
   "source": [
    "### ARIS / TrEvol"
   ]
  },
  {
   "cell_type": "code",
   "execution_count": 12,
   "metadata": {},
   "outputs": [],
   "source": [
    "def load_TrEvol_pwr_data(file = 'CIEMAT/MOX_raw.txt'):\n",
    "    M_TrEvol = np.loadtxt(file)\n",
    "\n",
    "    M_TrEvol_FLM_BOC_FPu = M_TrEvol[:,23] / (M_TrEvol[:,23] + M_TrEvol[:,21])\n",
    "    M_TrEvol_FLM_EOC_FPu = M_TrEvol[:,33] / (M_TrEvol[:,33] + M_TrEvol[:,31])\n",
    "\n",
    "    M_TrEvol_FF_BOC_FPu = M_TrEvol[:,3] / (M_TrEvol[:,3] + M_TrEvol[:,1])\n",
    "    M_TrEvol_FF_EOC_FPu = M_TrEvol[:,13] / (M_TrEvol[:,13] + M_TrEvol[:,11])\n",
    "\n",
    "    return M_TrEvol_FLM_BOC_FPu, M_TrEvol_FLM_EOC_FPu, M_TrEvol_FF_BOC_FPu, M_TrEvol_FF_EOC_FPu"
   ]
  },
  {
   "cell_type": "markdown",
   "metadata": {},
   "source": [
    "### BaM / CYCLUS"
   ]
  },
  {
   "cell_type": "code",
   "execution_count": 69,
   "metadata": {},
   "outputs": [],
   "source": [
    "def load_cyclus_pwr_data(file = 'BAM'):\n",
    "    M_Cyclus_FLM = np.loadtxt(file + '/eq.csv', delimiter=',')\n",
    "    M_Cyclus_FF = np.loadtxt(file + '/fix.csv', delimiter=',')\n",
    "\n",
    "    M_Cyclus_FLM_BOC_FPu = M_Cyclus_FLM[:,13]\n",
    "    M_Cyclus_FLM_EOC_FPu = M_Cyclus_FLM[:,14]\n",
    "\n",
    "    M_Cyclus_FF_BOC_FPu = M_Cyclus_FF[:,13]\n",
    "    M_Cyclus_FF_EOC_FPu = M_Cyclus_FF[:,14]\n",
    "    \n",
    "    return M_Cyclus_FLM_BOC_FPu, M_Cyclus_FLM_EOC_FPu, M_Cyclus_FF_BOC_FPu, M_Cyclus_FF_EOC_FPu"
   ]
  },
  {
   "cell_type": "code",
   "execution_count": null,
   "metadata": {},
   "outputs": [],
   "source": []
  },
  {
   "cell_type": "markdown",
   "metadata": {},
   "source": [
    "### Load Data"
   ]
  },
  {
   "cell_type": "code",
   "execution_count": 97,
   "metadata": {},
   "outputs": [],
   "source": [
    "M_FLM_BOC_FPu = {}\n",
    "M_FLM_EOC_FPu = {}\n",
    "M_FF_BOC_FPu = {}\n",
    "M_FF_EOC_FPu = {}\n",
    "\n",
    "M_BOC_MUPu = {}\n",
    "\n",
    "M_FLM_BOC_FPu['ANICCA'], M_FLM_EOC_FPu['ANICCA'], M_FF_BOC_FPu['ANICCA'], M_FF_EOC_FPu['ANICCA'] = load_anica_pwr_data()\n",
    "M_FLM_BOC_FPu['CLASS'], M_FLM_EOC_FPu['CLASS'], M_FF_BOC_FPu['CLASS'], M_FF_EOC_FPu['CLASS'] = load_class_pwr_data()\n",
    "M_FLM_BOC_FPu['TrEvol'], M_FLM_EOC_FPu['TrEvol'], M_FF_BOC_FPu['TrEvol'], M_FF_EOC_FPu['TrEvol'] = load_TrEvol_pwr_data()\n",
    "M_FLM_BOC_FPu['CYCLUS'], M_FLM_EOC_FPu['CYCLUS'], M_FF_BOC_FPu['CYCLUS'], M_FF_EOC_FPu['CYCLUS'] = load_cyclus_pwr_data()\n",
    "\n",
    "\n",
    "PWR_CT ={}\n",
    "PWR_CT['CLASS'] = 3\n",
    "PWR_CT['ANICCA'] = 3 # TO ASK !!! We don't have irradiated mass\n",
    "PWR_CT['TrEvol'] = 3 # TO CALCULATE FROM DATA\n",
    "PWR_CT['CYCLUS'] = 3 # TO CALCULATE FROM DATA\n",
    "\n",
    "\n",
    "_codes = ['CLASS', 'ANICCA', 'TrEvol', 'CYCLUS']\n"
   ]
  },
  {
   "cell_type": "markdown",
   "metadata": {},
   "source": [
    "## Methods"
   ]
  },
  {
   "cell_type": "markdown",
   "metadata": {},
   "source": [
    "### Estimators"
   ]
  },
  {
   "cell_type": "markdown",
   "metadata": {},
   "source": [
    "#### Estimator 1\n",
    "Estimator 1 is calculated from the Pu fraction @ B.O.C. for each run *i*: \n",
    "\n",
    "$F(Pu_i) = \\frac{Pu_i^{BOC}}{M_{HN}}$\n",
    "\n",
    "With $M_{HN}$ the initial heavy mass. The estimator 1 is then calculated as : \n",
    "\n",
    "$\\delta F(Pu_i) = \\frac{F_{FLM}(Pu_i) - F_{FF}(Pu_i)}{F_{FF}(Pu_i)}$"
   ]
  },
  {
   "cell_type": "code",
   "execution_count": 106,
   "metadata": {},
   "outputs": [],
   "source": [
    "ESTIMATOR_1 = {}\n",
    "for code in _codes:\n",
    "    ESTIMATOR_1[code] = (M_FLM_BOC_FPu[code] - M_FF_BOC_FPu[code] ) /M_FF_BOC_FPu[code]\n"
   ]
  },
  {
   "cell_type": "markdown",
   "metadata": {},
   "source": [
    "#### Estimator 2\n",
    "\n",
    "The second estimator is related to the relative slope of the reactor evolution. Let's define :\n",
    "\n",
    "$\\frac{\\Delta M}{M}(Pu_i) = \\frac{M^{BOC}(Pu_i) - M^{EOC}(Pu_i)}{M^{BOC}(Pu_i)}$\n",
    "\n",
    "The estimateur 2 is then the relative difference of this observable : \n",
    "\n",
    "$\\delta \\frac{\\Delta M}{M}(Pu_i) = \\frac{\\frac{\\Delta M}{M}(Pu_i)_{FLM} - \\frac{\\Delta M}{M}(Pu_i)_{FF}}{\\frac{\\Delta M}{M}(Pu_i)_{FF}}$"
   ]
  },
  {
   "cell_type": "code",
   "execution_count": 133,
   "metadata": {},
   "outputs": [],
   "source": [
    "ESTIMATOR_2 = {}\n",
    "\n",
    "for code in _codes:\n",
    "    _fml = (M_FLM_BOC_FPu[code] -  M_FLM_EOC_FPu[code])/M_FLM_BOC_FPu[code]\n",
    "    _ff = (M_FF_BOC_FPu[code] -  M_FF_EOC_FPu[code])/M_FF_BOC_FPu[code]\n",
    "    ESTIMATOR_2[code] = (_fml - _ff)/_ff\n"
   ]
  },
  {
   "cell_type": "markdown",
   "metadata": {},
   "source": [
    "#### Estimator 3\n",
    "\n",
    "The third estimator is related to the absolute slope of the reactor evolution. we define :\n",
    "\n",
    "$\\frac{\\Delta M}{\\Delta t}(Pu_i) = \\frac{M^{BOC}(Pu_i) - M^{EOC}(Pu_i)}{\\Delta t}$\n",
    "\n",
    "The estimateur 3 is then the relative difference of this observable : \n",
    "\n",
    "$\\delta \\frac{\\Delta M}{\\Delta t}(Pu_i) = \\frac{\\frac{\\Delta M}{\\Delta t}(Pu_i)_{FLM} - \\frac{\\Delta M}{\\Delta t}(Pu_i)_{FF}}{\\frac{\\Delta M}{\\Delta t}(Pu_i)_{FF}}$"
   ]
  },
  {
   "cell_type": "code",
   "execution_count": null,
   "metadata": {},
   "outputs": [],
   "source": [
    "ESTIMATOR_3 = {}\n",
    "\n",
    "for code in _codes:\n",
    "    _fml = (M_FLM_BOC_FPu[code] -  M_FLM_EOC_FPu[code])/M_FLM_BOC_FPu[code]\n",
    "    _ff = (M_FF_BOC_FPu[code] -  M_FF_EOC_FPu[code])/M_FF_BOC_FPu[code]\n",
    "    ESTIMATOR_2[code] = (_fml - _ff)/_ff\n",
    "\n",
    "\n",
    "\n",
    "\n",
    "\n",
    "MPu_FLM_CLASS = (M_CLASS_FLM[:,5] - M_CLASS_FLM[:,6])/(PWR_CLASS_CT)\n",
    "MPu_FF_CLASS = (M_CLASS_FF[:,5] - M_CLASS_FF[:,6])/(PWR_CLASS_CT)\n",
    "\n",
    "est_3_CLASS = (MPu_FLM_CLASS - MPu_FF_CLASS)/(MPu_FF_CLASS)\n",
    "\n",
    "MPu_FLM_ANICCA = (M_ANICCA_FLM_BOC[:,2] - M_ANICCA_FLM_EOC[:,2])/PWR_ANICCA_CT\n",
    "MPu_FF_ANICCA = (M_ANICCA_FF_BOC[:,2] - M_ANICCA_FF_EOC[:,2])/PWR_ANICCA_CT\n",
    "\n",
    "est_3_ANICCA = (MPu_FLM_ANICCA - MPu_FF_ANICCA)/(MPu_FF_ANICCA)\n",
    "\n",
    "print(est_3_ANICCA[0], est_3_CLASS[0])"
   ]
  },
  {
   "cell_type": "markdown",
   "metadata": {},
   "source": [
    "### Plots"
   ]
  },
  {
   "cell_type": "code",
   "execution_count": 98,
   "metadata": {},
   "outputs": [],
   "source": [
    "def plot_pu_boc(datas, labels=[], bins=[], x_label='Mass Fraction', title_label='Pu distribution @ BOC', range=(0,0.20)):\n",
    "    plt.figure(1)\n",
    "    plt.grid(True)\n",
    "    plt.title(title_label)\n",
    "    plt.xlabel(x_label)\n",
    "    #plt.ylabel('Number of Occurences')\n",
    "    for i, label in enumerate(labels):\n",
    "        bin = 0\n",
    "        if len(bins) >0:\n",
    "            bin = bins[i]\n",
    "        data = datas[label]\n",
    "        plt.hist(data,bins=bin,range=range,histtype='step', density=True,lw=3,label='PWR-MOX FLM with '+ label)\n",
    "        plt.legend(loc='upper right')\n",
    "\n"
   ]
  },
  {
   "cell_type": "markdown",
   "metadata": {},
   "source": [
    "### Print"
   ]
  },
  {
   "cell_type": "code",
   "execution_count": 99,
   "metadata": {},
   "outputs": [],
   "source": [
    "def print_means(code):\n",
    "    print(\"Pu BOC\", code,\"FLM = \",np.mean(M_FLM_BOC_FPu[code]))\n",
    "    print(\"Pu EOC\", code,\"FLM = \",np.mean(M_FLM_EOC_FPu[code]))\n",
    "    print(\"Pu BOC\", code,\"FF = \",np.mean(M_FF_BOC_FPu[code]))\n",
    "    print(\"Pu EOC\", code,\"FF = \",np.mean(M_FF_EOC_FPu[code]))\n",
    "    print(\"\\n\")"
   ]
  },
  {
   "cell_type": "markdown",
   "metadata": {},
   "source": [
    "## 1.2 Plotting Pu for FLM @ BOC and EOC"
   ]
  },
  {
   "cell_type": "code",
   "execution_count": 138,
   "metadata": {},
   "outputs": [],
   "source": [
    "codes = ['CLASS', 'ANICCA', 'TrEvol', 'CYCLUS']"
   ]
  },
  {
   "cell_type": "code",
   "execution_count": 139,
   "metadata": {},
   "outputs": [
    {
     "data": {
      "image/png": "[encoded data removed]",
      "text/plain": [
       "<Figure size 432x288 with 1 Axes>"
      ]
     },
     "metadata": {
      "needs_background": "light"
     },
     "output_type": "display_data"
    }
   ],
   "source": [
    "bins = [20, 20, 800, 20]\n",
    "plot_pu_boc(M_FLM_BOC_FPu, bins=bins, labels=codes, range=(0,0.20))\n",
    "\n"
   ]
  },
  {
   "cell_type": "code",
   "execution_count": 140,
   "metadata": {},
   "outputs": [
    {
     "data": {
      "image/png": "[encoded data removed]",
      "text/plain": [
       "<Figure size 432x288 with 1 Axes>"
      ]
     },
     "metadata": {
      "needs_background": "light"
     },
     "output_type": "display_data"
    }
   ],
   "source": [
    "bins = [20, 20, 2000, 20]\n",
    "plot_pu_boc(M_FLM_EOC_FPu, bins=bins, labels=codes, title_label='Pu distribution @ EOC', range=(0,0.20))\n"
   ]
  },
  {
   "cell_type": "markdown",
   "metadata": {},
   "source": [
    "=> <span style=\"color:red\"> Why ANICCA has so small Pu consumption....?? </span>\n",
    "\n",
    "=> <span style=\"color:red\"> Why TrEvol is so focused around 5% ? </span>"
   ]
  },
  {
   "cell_type": "markdown",
   "metadata": {},
   "source": [
    "## 1.3 Mean value estimators"
   ]
  },
  {
   "cell_type": "code",
   "execution_count": 141,
   "metadata": {},
   "outputs": [
    {
     "name": "stdout",
     "output_type": "stream",
     "text": [
      "Pu BOC CLASS FLM =  0.07049648239165257\n",
      "Pu EOC CLASS FLM =  0.05595336212372836\n",
      "Pu BOC CLASS FF =  0.07000000000000003\n",
      "Pu EOC CLASS FF =  0.055125920302501456\n",
      "\n",
      "\n",
      "Pu BOC ANICCA FLM =  0.0647311\n",
      "Pu EOC ANICCA FLM =  0.0758772\n",
      "Pu BOC ANICCA FF =  0.0771998\n",
      "Pu EOC ANICCA FF =  0.0649438\n",
      "\n",
      "\n",
      "Pu BOC TrEvol FLM =  0.048649442486544105\n",
      "Pu EOC TrEvol FLM =  0.024966759008538467\n",
      "Pu BOC TrEvol FF =  0.04833068119853844\n",
      "Pu EOC TrEvol FF =  0.024761294109127738\n",
      "\n",
      "\n",
      "Pu BOC CYCLUS FLM =  0.07940937971962646\n",
      "Pu EOC CYCLUS FLM =  0.06165874819625318\n",
      "Pu BOC CYCLUS FF =  0.07806999999999999\n",
      "Pu EOC CYCLUS FF =  0.060308749917782296\n",
      "\n",
      "\n"
     ]
    }
   ],
   "source": [
    "for code in codes:\n",
    "    print_means(code)\n",
    "\n"
   ]
  },
  {
   "cell_type": "markdown",
   "metadata": {},
   "source": [
    "<span style=\"color:red\"> WTF?? ANICCA EOC Pu fraction is higher than BOC ??</span>\n",
    "\n",
    "## 1.4 Plotting estimator 1\n",
    "\n",
    "Estimator 1 is calculated from the Pu fraction @ B.O.C. for each run *i*: \n",
    "\n",
    "$F(Pu_i) = \\frac{Pu_i^{BOC}}{M_{HN}}$\n",
    "\n",
    "With $M_{HN}$ the initial heavy mass. The estimator 1 is then calculated as : \n",
    "\n",
    "$\\delta F(Pu_i) = \\frac{F_{FLM}(Pu_i) - F_{FF}(Pu_i)}{F_{FF}(Pu_i)}$"
   ]
  },
  {
   "cell_type": "code",
   "execution_count": 142,
   "metadata": {
    "scrolled": false
   },
   "outputs": [
    {
     "data": {
      "image/png": "[encoded data removed]",
      "text/plain": [
       "<Figure size 432x288 with 1 Axes>"
      ]
     },
     "metadata": {
      "needs_background": "light"
     },
     "output_type": "display_data"
    }
   ],
   "source": [
    "bins = [20, 20, 20, 20]\n",
    "plot_pu_boc(ESTIMATOR_1, bins=bins, labels=codes, title_label='Estimator 1', x_label='$\\delta F(Pu)$', range=(-0.5,1.4))\n"
   ]
  },
  {
   "cell_type": "markdown",
   "metadata": {},
   "source": [
    "## 1.5 Plotting Estimator 2\n",
    "\n",
    "The second estimator is related to the relative slope of the reactor evolution. Let's define :\n",
    "\n",
    "$\\frac{\\Delta M}{M}(Pu_i) = \\frac{M^{BOC}(Pu_i) - M^{EOC}(Pu_i)}{M^{BOC}(Pu_i)}$\n",
    "\n",
    "The estimateur 2 is then the relative difference of this observable : \n",
    "\n",
    "$\\delta \\frac{\\Delta M}{M}(Pu_i) = \\frac{\\frac{\\Delta M}{M}(Pu_i)_{FLM} - \\frac{\\Delta M}{M}(Pu_i)_{FF}}{\\frac{\\Delta M}{M}(Pu_i)_{FF}}$"
   ]
  },
  {
   "cell_type": "code",
   "execution_count": 152,
   "metadata": {},
   "outputs": [
    {
     "data": {
      "image/png": "[encoded data removed]",
      "text/plain": [
       "<Figure size 432x288 with 1 Axes>"
      ]
     },
     "metadata": {
      "needs_background": "light"
     },
     "output_type": "display_data"
    }
   ],
   "source": [
    "bins = [25, 25, 25, 25]\n",
    "codes = ['CLASS', 'TrEvol', 'CYCLUS']\n",
    "plot_pu_boc(ESTIMATOR_2, bins=bins, labels=codes, title_label='Estimator 2', x_label='$\\delta F(Pu)$', range=(-0.5,0.4))"
   ]
  },
  {
   "cell_type": "markdown",
   "metadata": {},
   "source": [
    "## 1.5 Plotting Estimator 3\n",
    "\n",
    "The third estimator is related to the absolute slope of the reactor evolution. we define :\n",
    "\n",
    "$\\frac{\\Delta M}{\\Delta t}(Pu_i) = \\frac{M^{BOC}(Pu_i) - M^{EOC}(Pu_i)}{\\Delta t}$\n",
    "\n",
    "The estimateur 3 is then the relative difference of this observable : \n",
    "\n",
    "$\\delta \\frac{\\Delta M}{\\Delta t}(Pu_i) = \\frac{\\frac{\\Delta M}{\\Delta t}(Pu_i)_{FLM} - \\frac{\\Delta M}{\\Delta t}(Pu_i)_{FF}}{\\frac{\\Delta M}{\\Delta t}(Pu_i)_{FF}}$"
   ]
  },
  {
   "cell_type": "code",
   "execution_count": 13,
   "metadata": {},
   "outputs": [
    {
     "name": "stdout",
     "output_type": "stream",
     "text": [
      "-2.0165289256198355 -0.16601382287912836\n"
     ]
    },
    {
     "data": {
      "text/plain": [
       "<matplotlib.legend.Legend at 0x111c0f390>"
      ]
     },
     "execution_count": 13,
     "metadata": {},
     "output_type": "execute_result"
    },
    {
     "data": {
      "image/png": "[encoded data removed]",
      "text/plain": [
       "<Figure size 432x288 with 1 Axes>"
      ]
     },
     "metadata": {
      "needs_background": "light"
     },
     "output_type": "display_data"
    }
   ],
   "source": [
    "MPu_FLM_CLASS = (M_CLASS_FLM[:,5] - M_CLASS_FLM[:,6])/(PWR_CLASS_CT)\n",
    "MPu_FF_CLASS = (M_CLASS_FF[:,5] - M_CLASS_FF[:,6])/(PWR_CLASS_CT)\n",
    "\n",
    "est_3_CLASS = (MPu_FLM_CLASS - MPu_FF_CLASS)/(MPu_FF_CLASS)\n",
    "\n",
    "MPu_FLM_ANICCA = (M_ANICCA_FLM_BOC[:,2] - M_ANICCA_FLM_EOC[:,2])/PWR_ANICCA_CT\n",
    "MPu_FF_ANICCA = (M_ANICCA_FF_BOC[:,2] - M_ANICCA_FF_EOC[:,2])/PWR_ANICCA_CT\n",
    "\n",
    "est_3_ANICCA = (MPu_FLM_ANICCA - MPu_FF_ANICCA)/(MPu_FF_ANICCA)\n",
    "\n",
    "print(est_3_ANICCA[0], est_3_CLASS[0])\n",
    "\n",
    "plt.figure(4)\n",
    "plt.grid(True)\n",
    "plt.title('Estimator 1')\n",
    "plt.xlabel('$\\delta F(Pu)$')\n",
    "plt.ylabel('Number of Occurences')\n",
    "plt.hist(est_3_CLASS,bins=20,range=(-0.5,0.7),histtype='step',lw=2,color='blue',label='Est. 3 with CLASS')\n",
    "plt.hist(est_3_ANICCA,bins=20,range=(-2.5,0.7),histtype='step',lw=2,color='red',label='Est. 3 with ANICCA')\n",
    "plt.legend(loc='upper right')"
   ]
  },
  {
   "cell_type": "code",
   "execution_count": null,
   "metadata": {
    "scrolled": false
   },
   "outputs": [],
   "source": []
  },
  {
   "cell_type": "code",
   "execution_count": null,
   "metadata": {},
   "outputs": [],
   "source": []
  }
 ],
 "metadata": {
  "kernelspec": {
   "display_name": "Python 3",
   "language": "python",
   "name": "python3"
  },
  "language_info": {
   "codemirror_mode": {
    "name": "ipython",
    "version": 3
   },
   "file_extension": ".py",
   "mimetype": "text/x-python",
   "name": "python",
   "nbconvert_exporter": "python",
   "pygments_lexer": "ipython3",
   "version": "3.6.8"
  }
 },
 "nbformat": 4,
 "nbformat_minor": 2
}
