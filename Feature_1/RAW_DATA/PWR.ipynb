{
 "cells": [
  {
   "cell_type": "code",
   "execution_count": 1,
   "metadata": {},
   "outputs": [],
   "source": [
    "import matplotlib.pyplot as plt\n",
    "import numpy as np\n",
    "\n",
    "np.set_printoptions(precision=4)\n",
    "plt.style.use('seaborn-white')\n"
   ]
  },
  {
   "cell_type": "markdown",
   "metadata": {},
   "source": [
    "# 1. PWR\n",
    "\n",
    "## 1.0 Reactor Data\n",
    "\n",
    "### PWR - CLASS\n",
    "#### Reactor\n",
    "    - 17x17 infinite assembly\n",
    "    - Neural network prediction of the k$_{inf}$\n",
    "    - k$_{threshold}$ is 1.034\n",
    "    - Heavy mass: 72 tons\n",
    "    - Thermal power: 3 GWth\n",
    "    - Loading factor: 75%\n",
    "    - Irradiation time: 3 years that correspond to a burn-up closed to 34 GWd/t\n",
    "#### FLM\n",
    "    - 17x17 infinite assembly\n",
    "    - Neural network prediction of the k$_{inf}$\n",
    "    - k$_{threshold}$ is 1.034\n",
    "\n",
    "### PWR - Tr_Evol\n",
    "#### Reactor\n",
    "    - Thermal_power_(GW) : 3.0\n",
    "    - Electrical_power_(GW) : 1.0\n",
    "    - Load_factor : 0.9\n",
    "    - Core_mass_(tHM) : 72.0\n",
    "    - Burn_up_(GWd/tHM) : 41\n",
    "#### FLM\n",
    "    - Baker \\& Ross\n",
    "\n",
    "\n",
    "### PWR - ANICCA\n",
    "#### Reactor\n",
    "\n",
    "    - Fuel Heavy Mass: 22.2908 t / year  from 1 GW*0.85*365.25/41 GWd/t\n",
    "    - BU : 41 GWd/t (this one from the reference library, so I set this like a reference for all simulations to calculate the annual loading masses)\n",
    "    - Load Factor : 85% (I changed this to be more representative)\n",
    "    - Electric Power : 1.02 GWth\n",
    "    - Thermal Power : 3 GWth\n",
    "    - Cycle Time : 1390 EFPD\n",
    "    - Core Mass : 101.7 tHM (1390*3/41… right?)\n",
    "\n",
    "#### FLM\n",
    "    - Baker \\& Ross\n",
    "\n",
    "    \n",
    "### PWR - CYCLUS\n",
    "#### Reactor\n",
    "    - Heavy mass: 72 tons\n",
    "    - Thermal power: 2.7 GWth\n",
    "    - Loading factor: 100%\n",
    "    - BurnUp: 41.09 GWd/t\n",
    "#### FLM\n",
    "    - Baker \\& Ross\n",
    "\n",
    "    "
   ]
  },
  {
   "cell_type": "code",
   "execution_count": 2,
   "metadata": {},
   "outputs": [
    {
     "name": "stdout",
     "output_type": "stream",
     "text": [
      "38.15629715006579\n",
      "109.28733424\n"
     ]
    }
   ],
   "source": [
    "print(3 * 0.9 * (1390 / 0.9) / (4.9028* 22.2908))\n",
    "print(4.9028* 22.2908)                        "
   ]
  },
  {
   "cell_type": "markdown",
   "metadata": {},
   "source": [
    "## 1.1 Loading Data files and Variable declaration\n",
    "### NICO / CLASS"
   ]
  },
  {
   "cell_type": "code",
   "execution_count": 3,
   "metadata": {},
   "outputs": [],
   "source": [
    "def load_class_pwr_data(fml_file = 'CLASS_CRNS_PWR/PWR_MOX_FLM.dat',  ff_file = 'CLASS_CRNS_PWR/PWR_MOX_FF.dat'):\n",
    "    M_CLASS_FLM = np.loadtxt(fml_file)\n",
    "    M_CLASS_FF = np.loadtxt(ff_file)\n",
    "    \n",
    "    total_mass = 72\n",
    "    M_CLASS_FLM_BOC_FPu = M_CLASS_FLM[:,5]/total_mass\n",
    "    M_CLASS_FLM_EOC_FPu = M_CLASS_FLM[:,6]/total_mass\n",
    "        \n",
    "    M_CLASS_FF_BOC_FPu = M_CLASS_FF[:,5]/total_mass\n",
    "    M_CLASS_FF_EOC_FPu = M_CLASS_FF[:,6]/total_mass\n",
    "    return M_CLASS_FLM_BOC_FPu, M_CLASS_FLM_EOC_FPu, M_CLASS_FF_BOC_FPu, M_CLASS_FF_EOC_FPu\n"
   ]
  },
  {
   "cell_type": "markdown",
   "metadata": {},
   "source": [
    "### YVAN / ANICCA"
   ]
  },
  {
   "cell_type": "code",
   "execution_count": 4,
   "metadata": {},
   "outputs": [],
   "source": [
    "def load_anica_pwr_data(fml_file = 'ANICCA_SCK/PWR_MOX_FLM',  ff_file = 'ANICCA_SCK/PWR_MOX_FF'):\n",
    "\n",
    "    M_ANICCA_FLM_BOC = np.loadtxt( fml_file + '_BOC.dat')\n",
    "    M_ANICCA_FLM_EOC = np.loadtxt( fml_file + '_EOC.dat')\n",
    "    M_ANICCA_FF_BOC = np.loadtxt( ff_file + '_BOC.dat')\n",
    "    M_ANICCA_FF_EOC = np.loadtxt( ff_file + '_EOC.dat')\n",
    "\n",
    "    M_ANICCA_FLM_BOC_FPu = M_ANICCA_FLM_BOC[:,2]\n",
    "    M_ANICCA_FLM_EOC_FPu = M_ANICCA_FLM_EOC[:,2]\n",
    "\n",
    "    M_ANICCA_FF_BOC_FPu = M_ANICCA_FF_BOC[:,2]\n",
    "    M_ANICCA_FF_EOC_FPu = M_ANICCA_FF_EOC[:,2]\n",
    "\n",
    "    return M_ANICCA_FLM_BOC_FPu, M_ANICCA_FLM_EOC_FPu, M_ANICCA_FF_BOC_FPu, M_ANICCA_FF_EOC_FPu"
   ]
  },
  {
   "cell_type": "markdown",
   "metadata": {},
   "source": [
    "### ARIS / TrEvol"
   ]
  },
  {
   "cell_type": "code",
   "execution_count": 5,
   "metadata": {},
   "outputs": [],
   "source": [
    "def load_TrEvol_pwr_data(file = 'TREVOL_CIEMAT/MOX_raw.txt'):\n",
    "    M_TrEvol = np.loadtxt(file)\n",
    "    total_mass = (23) \n",
    "    M_TrEvol_FLM_BOC_FPu = M_TrEvol[:,23] / total_mass\n",
    "    M_TrEvol_FLM_EOC_FPu = M_TrEvol[:,33] / total_mass\n",
    "\n",
    "    M_TrEvol_FF_BOC_FPu = M_TrEvol[:,3] / total_mass\n",
    "    M_TrEvol_FF_EOC_FPu = M_TrEvol[:,13] / total_mass\n",
    "\n",
    "    print(M_TrEvol[:,13] - M_TrEvol[:,33])\n",
    "    return M_TrEvol_FLM_BOC_FPu, M_TrEvol_FLM_EOC_FPu, M_TrEvol_FF_BOC_FPu, M_TrEvol_FF_EOC_FPu\n",
    "\n",
    "\n"
   ]
  },
  {
   "cell_type": "markdown",
   "metadata": {},
   "source": [
    "### BaM / CYCLUS"
   ]
  },
  {
   "cell_type": "code",
   "execution_count": 6,
   "metadata": {},
   "outputs": [],
   "source": [
    "def load_cyclus_pwr_data(file = 'CYCLUS_UWM'):\n",
    "    M_Cyclus_FLM = np.loadtxt(file + '/eq.csv', delimiter=',')\n",
    "    M_Cyclus_FF = np.loadtxt(file + '/fix.csv', delimiter=',')\n",
    "\n",
    "    M_Cyclus_FLM_BOC_FPu = M_Cyclus_FLM[:,13]\n",
    "    M_Cyclus_FLM_EOC_FPu = M_Cyclus_FLM[:,14]\n",
    "\n",
    "    M_Cyclus_FF_BOC_FPu = M_Cyclus_FF[:,13]\n",
    "    M_Cyclus_FF_EOC_FPu = M_Cyclus_FF[:,14]\n",
    "    \n",
    "    return M_Cyclus_FLM_BOC_FPu, M_Cyclus_FLM_EOC_FPu, M_Cyclus_FF_BOC_FPu, M_Cyclus_FF_EOC_FPu"
   ]
  },
  {
   "cell_type": "code",
   "execution_count": null,
   "metadata": {},
   "outputs": [],
   "source": []
  },
  {
   "cell_type": "markdown",
   "metadata": {},
   "source": [
    "### Load Data"
   ]
  },
  {
   "cell_type": "code",
   "execution_count": 7,
   "metadata": {},
   "outputs": [
    {
     "name": "stdout",
     "output_type": "stream",
     "text": [
      "[ 0.     -0.2176  0.1551 ... -1.9832 -1.184   0.3031]\n"
     ]
    }
   ],
   "source": [
    "M_FLM_BOC_FPu = {}\n",
    "M_FLM_EOC_FPu = {}\n",
    "M_FF_BOC_FPu = {}\n",
    "M_FF_EOC_FPu = {}\n",
    "\n",
    "M_FLM_BOC_MUPu = {}\n",
    "\n",
    "M_FLM_BOC_FPu['ANICCA'], M_FLM_EOC_FPu['ANICCA'], M_FF_BOC_FPu['ANICCA'], M_FF_EOC_FPu['ANICCA'] = load_anica_pwr_data()\n",
    "M_FLM_BOC_FPu['CLASS'], M_FLM_EOC_FPu['CLASS'], M_FF_BOC_FPu['CLASS'], M_FF_EOC_FPu['CLASS'] = load_class_pwr_data()\n",
    "M_FLM_BOC_FPu['TrEvol'], M_FLM_EOC_FPu['TrEvol'], M_FF_BOC_FPu['TrEvol'], M_FF_EOC_FPu['TrEvol'] = load_TrEvol_pwr_data()\n",
    "M_FLM_BOC_FPu['CYCLUS'], M_FLM_EOC_FPu['CYCLUS'], M_FF_BOC_FPu['CYCLUS'], M_FF_EOC_FPu['CYCLUS'] = load_cyclus_pwr_data()\n",
    "\n",
    "PWR_MASS = {}\n",
    "PWR_MASS['CLASS'] = 72\n",
    "PWR_MASS['ANICCA'] = 101.7\n",
    "PWR_MASS['TrEvol'] = 23\n",
    "PWR_MASS['CYCLUS'] = 72\n",
    "\n",
    "\n",
    "PWR_CYCLE = {}\n",
    "PWR_CYCLE['CLASS'] = 3\n",
    "PWR_CYCLE['ANICCA'] = 1390/0.85/365.25\n",
    "PWR_CYCLE['TrEvol'] = 41 / (3*0.9) *72.0 /365.25\n",
    "PWR_CYCLE['CYCLUS'] = 41.09 /2.7 *72 /365.25\n",
    "\n",
    "\n",
    "colors = {}\n",
    "colors['CLASS'] = \"black\"\n",
    "colors['ANICCA'] = \"crimson\"\n",
    "colors['CYCLUS'] = \"royalblue\"\n",
    "colors['TrEvol'] = \"limegreen\"\n"
   ]
  },
  {
   "cell_type": "markdown",
   "metadata": {},
   "source": [
    "## Methods"
   ]
  },
  {
   "cell_type": "markdown",
   "metadata": {},
   "source": [
    "### Estimators"
   ]
  },
  {
   "cell_type": "markdown",
   "metadata": {},
   "source": [
    "#### Estimator 1\n",
    "Estimator 1 is calculated from the Pu fraction @ B.O.C. for each run *i*: \n",
    "\n",
    "$F(Pu_i) = \\frac{Pu_i^{BOC}}{M_{HN}}$\n",
    "\n",
    "With $M_{HN}$ the initial heavy mass. The estimator 1 is then calculated as : \n",
    "\n",
    "$\\delta F(Pu_i) = \\frac{F_{FLM}(Pu_i) - F_{FF}(Pu_i)}{F_{FF}(Pu_i)}$"
   ]
  },
  {
   "cell_type": "code",
   "execution_count": 8,
   "metadata": {},
   "outputs": [],
   "source": [
    "ESTIMATOR_1 = {}\n",
    "_codes = ['CLASS', 'ANICCA', 'TrEvol', 'CYCLUS']\n",
    "for code in _codes:\n",
    "    ESTIMATOR_1[code] = (M_FLM_BOC_FPu[code] - M_FF_BOC_FPu[code] ) /M_FF_BOC_FPu[code]\n"
   ]
  },
  {
   "cell_type": "markdown",
   "metadata": {},
   "source": [
    "#### Estimator 2\n",
    "\n",
    "The second estimator is related to the relative slope of the reactor evolution. Let's define :\n",
    "\n",
    "$\\frac{\\Delta M}{M}(Pu_i) = \\frac{M^{BOC}(Pu_i) - M^{EOC}(Pu_i)}{M^{BOC}(Pu_i)}$\n",
    "\n",
    "The estimateur 2 is then the relative difference of this observable : \n",
    "\n",
    "$\\delta \\frac{\\Delta M}{M}(Pu_i) = \\frac{\\frac{\\Delta M}{M}(Pu_i)_{FLM} - \\frac{\\Delta M}{M}(Pu_i)_{FF}}{\\frac{\\Delta M}{M}(Pu_i)_{FF}}$"
   ]
  },
  {
   "cell_type": "code",
   "execution_count": 9,
   "metadata": {},
   "outputs": [],
   "source": [
    "ESTIMATOR_2 = {}\n",
    "_codes = ['CLASS', 'ANICCA', 'TrEvol', 'CYCLUS']\n",
    "for code in _codes:\n",
    "    _fml = (M_FLM_BOC_FPu[code] -  M_FLM_EOC_FPu[code])/M_FLM_BOC_FPu[code]\n",
    "    _ff = (M_FF_BOC_FPu[code] -  M_FF_EOC_FPu[code])/M_FF_BOC_FPu[code]\n",
    "    ESTIMATOR_2[code] = (_fml - _ff)/_ff\n"
   ]
  },
  {
   "cell_type": "code",
   "execution_count": null,
   "metadata": {},
   "outputs": [],
   "source": []
  },
  {
   "cell_type": "code",
   "execution_count": null,
   "metadata": {},
   "outputs": [],
   "source": []
  },
  {
   "cell_type": "markdown",
   "metadata": {},
   "source": [
    "#### Estimator 3\n",
    "\n",
    "The third estimator is related to the absolute slope of the reactor evolution. we define :\n",
    "\n",
    "$\\frac{\\Delta M}{\\Delta t}(Pu_i) = \\frac{M^{BOC}(Pu_i) - M^{EOC}(Pu_i)}{\\Delta t}$\n",
    "\n",
    "The estimateur 3 is then the relative difference of this observable : \n",
    "\n",
    "$\\delta \\frac{\\Delta M}{\\Delta t}(Pu_i) = \\frac{\\frac{\\Delta M}{\\Delta t}(Pu_i)_{FLM} - \\frac{\\Delta M}{\\Delta t}(Pu_i)_{FF}}{\\frac{\\Delta M}{\\Delta t}(Pu_i)_{FF}}$"
   ]
  },
  {
   "cell_type": "code",
   "execution_count": 10,
   "metadata": {},
   "outputs": [],
   "source": [
    "ESTIMATOR_3 = {}\n",
    "\n",
    "_codes = ['CLASS', 'ANICCA', 'TrEvol', 'CYCLUS']\n",
    "for code in _codes:\n",
    "    _fml = (M_FLM_BOC_FPu[code] -  M_FLM_EOC_FPu[code])* PWR_MASS[code]/PWR_CYCLE[code]\n",
    "    _ff = (M_FF_BOC_FPu[code] -  M_FF_EOC_FPu[code])* PWR_MASS[code]/PWR_CYCLE[code]\n",
    "    ESTIMATOR_3[code] = (_fml - _ff)/_ff\n"
   ]
  },
  {
   "cell_type": "code",
   "execution_count": 11,
   "metadata": {},
   "outputs": [
    {
     "data": {
      "text/plain": [
       "4"
      ]
     },
     "execution_count": 11,
     "metadata": {},
     "output_type": "execute_result"
    }
   ],
   "source": [
    "len(_codes)"
   ]
  },
  {
   "cell_type": "markdown",
   "metadata": {},
   "source": [
    "### Plots"
   ]
  },
  {
   "cell_type": "code",
   "execution_count": 29,
   "metadata": {},
   "outputs": [],
   "source": [
    "def plot_pu(datas_boc, datas_eoc, labels=[], bins=[], x_label='Mass Fraction', y_label='Density', title_label='PWR MOX FLM - Pu distribution', range=(0,0.20)):\n",
    "\n",
    "    fig, axs = plt.subplots(len(labels), 1, sharex=True, figsize=(12, 10))\n",
    "    fig.subplots_adjust(hspace=0.0)\n",
    "\n",
    "    #plt.title(title_label,fontsize=20)\n",
    "    axs[0].set_title(title_label,fontsize=12)\n",
    "    plt.xlabel(x_label,fontsize=12)\n",
    "\n",
    "    #plt.ylabel('Number of Occurences')\n",
    "    for i, label in enumerate(labels):\n",
    "        bin = 0\n",
    "        if len(bins) >0:\n",
    "            bin = bins[i]\n",
    "        data_boc = datas_boc[label]\n",
    "        data_eoc = datas_eoc[label]\n",
    "\n",
    "        axs[i].grid(True)\n",
    "        axs[i].set_ylabel(y_label,fontsize=12)\n",
    "        axs[i].hist(data_boc,bins=bin,range=range,histtype='stepfilled', alpha=1.0, density=True,lw=2,label='B.O.C.', color=\"black\")\n",
    "        axs[i].hist(data_eoc,bins=bin,range=range,histtype='stepfilled', alpha=0.4, density=True,lw=2,label='E.O.C.', color=\"red\")\n",
    "        axs[i].text(0.8, 0.8,label,horizontalalignment='center',verticalalignment='center',transform = axs[i].transAxes, fontsize=15)\n",
    "        axs[i].legend(loc='upper right',prop={'size': 12})\n",
    "    plt.show()\n",
    "    fig.savefig(\"FIG/PWR_MOX_FLM_Pu.pdf\")"
   ]
  },
  {
   "cell_type": "code",
   "execution_count": 30,
   "metadata": {},
   "outputs": [],
   "source": [
    "def plot_estimator(datas,labels=[], bins=[], x_label='X', y_label='Y', title_label='Title', range=(0,1)):\n",
    "\n",
    "    fig, axs = plt.subplots(len(labels), 1, sharex=True, figsize=(12, 10))\n",
    "    fig.subplots_adjust(hspace=0.0)\n",
    "\n",
    "    #plt.title(title_label,fontsize=20)\n",
    "    axs[0].set_title(title_label,fontsize=12)\n",
    "    plt.xlabel(x_label,fontsize=12)\n",
    "\n",
    "    #plt.ylabel('Number of Occurences')\n",
    "    for i, label in enumerate(labels):\n",
    "        bin = 0\n",
    "        if len(bins) >0:\n",
    "            bin = bins[i]\n",
    "        data = datas[label]\n",
    "\n",
    "        axs[i].grid(True)\n",
    "        axs[i].set_ylabel(y_label,fontsize=12)\n",
    "        axs[i].hist(data,bins=bin,range=range,histtype='step', alpha=1.0, density=True,lw=3,color=\"black\")\n",
    "        axs[i].text(0.8, 0.8,label,horizontalalignment='center',verticalalignment='center',transform = axs[i].transAxes, fontsize=15)\n",
    "    plt.show()\n",
    "    fig.savefig(\"FIG/\"+title_label+\".pdf\")"
   ]
  },
  {
   "cell_type": "markdown",
   "metadata": {},
   "source": [
    "### Print"
   ]
  },
  {
   "cell_type": "code",
   "execution_count": 31,
   "metadata": {},
   "outputs": [],
   "source": [
    "def print_means_pu(code):\n",
    "    print(\"----------------------------------------\")\n",
    "    print(\"Mean value\")\n",
    "    print(\"----------------------------------------\")\n",
    "    print(\"-----\",code,\"-----\")\n",
    "    print(\"FLM : \")      \n",
    "    print(\"Pu @BOC : \",np.mean(M_FLM_BOC_FPu[code]),\" - Pu @EOC : \",np.mean(M_FLM_EOC_FPu[code]))\n",
    "    print (\"FF : \")      \n",
    "    print(\"Pu @BOC : \",np.mean(M_FF_BOC_FPu[code]),\" - Pu @EOC : \",np.mean(M_FF_EOC_FPu[code]))\n",
    "    print(\"\\n\")\n",
    "    \n",
    "\n",
    "def print_std_pu(code):\n",
    "    print(\"----------------------------------------\")\n",
    "    print(\"Standard Deviation\")\n",
    "    print(\"----------------------------------------\")\n",
    "    print(\"-----\",code,\"-----\")\n",
    "    print(\"FLM : \")      \n",
    "    print(\"Pu @BOC : \",np.std(M_FLM_BOC_FPu[code]),\" - Pu @EOC : \",np.std(M_FLM_EOC_FPu[code]))\n",
    "    print (\"FF : \")      \n",
    "    print(\"Pu @BOC : \",np.std(M_FF_BOC_FPu[code]),\" - Pu @EOC : \",np.std(M_FF_EOC_FPu[code]))\n",
    "    print(\"\\n\")"
   ]
  },
  {
   "cell_type": "code",
   "execution_count": 32,
   "metadata": {},
   "outputs": [],
   "source": [
    "def print_means_estimator(code,est):\n",
    "    print(\"----------------------------------------\")\n",
    "    print(\"Mean value\")\n",
    "    print(\"----------------------------------------\")\n",
    "    print(\"-----\",code,\"-----\")\n",
    "    print(\"FLM : \")      \n",
    "    print(\"Pu @BOC : \",np.mean(est[code]),\" - Pu @EOC : \",np.mean(est[code]))\n",
    "    print (\"FF : \")      \n",
    "    print(\"Pu @BOC : \",np.mean(est[code]),\" - Pu @EOC : \",np.mean(est[code]))\n",
    "    print(\"\\n\")\n",
    "    \n",
    "\n",
    "def print_std_estimator(code,est):\n",
    "    print(\"----------------------------------------\")\n",
    "    print(\"Standard Deviation\")\n",
    "    print(\"----------------------------------------\")\n",
    "    print(\"-----\",code,\"-----\")\n",
    "    print(\"FLM : \")      \n",
    "    print(\"Pu @BOC : \",np.std(est[code]),\" - Pu @EOC : \",np.std(est[code]))\n",
    "    print (\"FF : \")      \n",
    "    print(\"Pu @BOC : \",np.std(est[code]),\" - Pu @EOC : \",np.std(est[code]))\n",
    "    print(\"\\n\")"
   ]
  },
  {
   "cell_type": "markdown",
   "metadata": {},
   "source": [
    "## 1.2 Plotting Pu for FLM @ BOC and EOC"
   ]
  },
  {
   "cell_type": "code",
   "execution_count": 33,
   "metadata": {},
   "outputs": [],
   "source": [
    "codes = ['CLASS', 'ANICCA', 'TrEvol', 'CYCLUS']"
   ]
  },
  {
   "cell_type": "code",
   "execution_count": 34,
   "metadata": {},
   "outputs": [
    {
     "data": {
      "image/png": "[encoded data removed]",
      "text/plain": [
       "<Figure size 864x720 with 4 Axes>"
      ]
     },
     "metadata": {
      "needs_background": "light"
     },
     "output_type": "display_data"
    }
   ],
   "source": [
    "bins = [75, 75, 75, 75]\n",
    "\n",
    "plot_pu(M_FLM_BOC_FPu, M_FLM_EOC_FPu, bins=bins, labels=codes, range=(0,0.20))"
   ]
  },
  {
   "cell_type": "markdown",
   "metadata": {},
   "source": [
    "=> <span style=\"color:red\"> Why ANICCA/TrEvol has so small Pu consumption....?? </span>"
   ]
  },
  {
   "cell_type": "markdown",
   "metadata": {},
   "source": [
    "## 1.3 Mean value estimators"
   ]
  },
  {
   "cell_type": "code",
   "execution_count": 35,
   "metadata": {},
   "outputs": [
    {
     "name": "stdout",
     "output_type": "stream",
     "text": [
      "----------------------------------------\n",
      "Mean value\n",
      "----------------------------------------\n",
      "----- CLASS -----\n",
      "FLM : \n",
      "Pu @BOC :  0.07049648240255964  - Pu @EOC :  0.055953362129144854\n",
      "FF : \n",
      "Pu @BOC :  0.07000000000000003  - Pu @EOC :  0.055125920302501456\n",
      "\n",
      "\n",
      "----------------------------------------\n",
      "Mean value\n",
      "----------------------------------------\n",
      "----- ANICCA -----\n",
      "FLM : \n",
      "Pu @BOC :  0.0685931  - Pu @EOC :  0.059098700000000004\n",
      "FF : \n",
      "Pu @BOC :  0.0699621  - Pu @EOC :  0.0593405\n",
      "\n",
      "\n",
      "----------------------------------------\n",
      "Mean value\n",
      "----------------------------------------\n",
      "----- TrEvol -----\n",
      "FLM : \n",
      "Pu @BOC :  0.07097319004178262  - Pu @EOC :  0.06333104893256522\n",
      "FF : \n",
      "Pu @BOC :  0.07048270044521739  - Pu @EOC :  0.060221324266956526\n",
      "\n",
      "\n",
      "----------------------------------------\n",
      "Mean value\n",
      "----------------------------------------\n",
      "----- CYCLUS -----\n",
      "FLM : \n",
      "Pu @BOC :  0.07940937971962646  - Pu @EOC :  0.06165874819625318\n",
      "FF : \n",
      "Pu @BOC :  0.07806999999999999  - Pu @EOC :  0.060308749917782296\n",
      "\n",
      "\n",
      "----------------------------------------\n",
      "Standard Deviation\n",
      "----------------------------------------\n",
      "----- CLASS -----\n",
      "FLM : \n",
      "Pu @BOC :  0.023359581973799733  - Pu @EOC :  0.021292277396337784\n",
      "FF : \n",
      "Pu @BOC :  2.7755575615628914e-17  - Pu @EOC :  0.0007854700672024424\n",
      "\n",
      "\n",
      "----------------------------------------\n",
      "Standard Deviation\n",
      "----------------------------------------\n",
      "----- ANICCA -----\n",
      "FLM : \n",
      "Pu @BOC :  0.019805424064886872  - Pu @EOC :  0.012907080549450367\n",
      "FF : \n",
      "Pu @BOC :  0.001486793055539338  - Pu @EOC :  0.0017476183078693128\n",
      "\n",
      "\n",
      "----------------------------------------\n",
      "Standard Deviation\n",
      "----------------------------------------\n",
      "----- TrEvol -----\n",
      "FLM : \n",
      "Pu @BOC :  0.05789547397647821  - Pu @EOC :  0.0525514368856058\n",
      "FF : \n",
      "Pu @BOC :  0.0014719307350763895  - Pu @EOC :  0.0014537004223486808\n",
      "\n",
      "\n",
      "----------------------------------------\n",
      "Standard Deviation\n",
      "----------------------------------------\n",
      "----- CYCLUS -----\n",
      "FLM : \n",
      "Pu @BOC :  0.016341950277220723  - Pu @EOC :  0.015016744851301169\n",
      "FF : \n",
      "Pu @BOC :  1.6154364966301536e-17  - Pu @EOC :  0.0007833498266529162\n",
      "\n",
      "\n"
     ]
    }
   ],
   "source": [
    "for code in codes:\n",
    "    print_means_pu(code)\n",
    "\n",
    "for code in codes:\n",
    "    print_std_pu(code)"
   ]
  },
  {
   "cell_type": "markdown",
   "metadata": {},
   "source": [
    "<span style=\"color:red\"> WTF?? ANICCA EOC Pu fraction is higher than BOC ??</span>\n",
    "\n",
    "## 1.4 Plotting estimator 1\n",
    "\n",
    "Estimator 1 is calculated from the Pu fraction @ B.O.C. for each run *i*: \n",
    "\n",
    "$F(Pu_i) = \\frac{Pu_i^{BOC}}{M_{HN}}$\n",
    "\n",
    "With $M_{HN}$ the initial heavy mass. The estimator 1 is then calculated as : \n",
    "\n",
    "$\\delta F(Pu_i) = \\frac{F_{FLM}(Pu_i) - F_{FF}(Pu_i)}{F_{FF}(Pu_i)}$"
   ]
  },
  {
   "cell_type": "code",
   "execution_count": 38,
   "metadata": {
    "scrolled": false
   },
   "outputs": [
    {
     "data": {
      "image/png": "[encoded data removed]",
      "text/plain": [
       "<Figure size 864x720 with 4 Axes>"
      ]
     },
     "metadata": {
      "needs_background": "light"
     },
     "output_type": "display_data"
    },
    {
     "name": "stdout",
     "output_type": "stream",
     "text": [
      "----------------------------------------\n",
      "Mean value\n",
      "----------------------------------------\n",
      "----- CLASS -----\n",
      "FLM : \n",
      "Pu @BOC :  0.007092605750851725  - Pu @EOC :  0.007092605750851725\n",
      "FF : \n",
      "Pu @BOC :  0.007092605750851725  - Pu @EOC :  0.007092605750851725\n",
      "\n",
      "\n",
      "----------------------------------------\n",
      "Mean value\n",
      "----------------------------------------\n",
      "----- ANICCA -----\n",
      "FLM : \n",
      "Pu @BOC :  -0.0181665723976879  - Pu @EOC :  -0.0181665723976879\n",
      "FF : \n",
      "Pu @BOC :  -0.0181665723976879  - Pu @EOC :  -0.0181665723976879\n",
      "\n",
      "\n",
      "----------------------------------------\n",
      "Mean value\n",
      "----------------------------------------\n",
      "----- TrEvol -----\n",
      "FLM : \n",
      "Pu @BOC :  0.009670316760222734  - Pu @EOC :  0.009670316760222734\n",
      "FF : \n",
      "Pu @BOC :  0.009670316760222734  - Pu @EOC :  0.009670316760222734\n",
      "\n",
      "\n",
      "----------------------------------------\n",
      "Mean value\n",
      "----------------------------------------\n",
      "----- CYCLUS -----\n",
      "FLM : \n",
      "Pu @BOC :  0.01715613833260487  - Pu @EOC :  0.01715613833260487\n",
      "FF : \n",
      "Pu @BOC :  0.01715613833260487  - Pu @EOC :  0.01715613833260487\n",
      "\n",
      "\n",
      "----------------------------------------\n",
      "Standard Deviation\n",
      "----------------------------------------\n",
      "----- CLASS -----\n",
      "FLM : \n",
      "Pu @BOC :  0.33370831391142475  - Pu @EOC :  0.33370831391142475\n",
      "FF : \n",
      "Pu @BOC :  0.33370831391142475  - Pu @EOC :  0.33370831391142475\n",
      "\n",
      "\n",
      "----------------------------------------\n",
      "Standard Deviation\n",
      "----------------------------------------\n",
      "----- ANICCA -----\n",
      "FLM : \n",
      "Pu @BOC :  0.28834327408969757  - Pu @EOC :  0.28834327408969757\n",
      "FF : \n",
      "Pu @BOC :  0.28834327408969757  - Pu @EOC :  0.28834327408969757\n",
      "\n",
      "\n",
      "----------------------------------------\n",
      "Standard Deviation\n",
      "----------------------------------------\n",
      "----- TrEvol -----\n",
      "FLM : \n",
      "Pu @BOC :  0.8428599834212074  - Pu @EOC :  0.8428599834212074\n",
      "FF : \n",
      "Pu @BOC :  0.8428599834212074  - Pu @EOC :  0.8428599834212074\n",
      "\n",
      "\n",
      "----------------------------------------\n",
      "Standard Deviation\n",
      "----------------------------------------\n",
      "----- CYCLUS -----\n",
      "FLM : \n",
      "Pu @BOC :  0.20932432787524943  - Pu @EOC :  0.20932432787524943\n",
      "FF : \n",
      "Pu @BOC :  0.20932432787524943  - Pu @EOC :  0.20932432787524943\n",
      "\n",
      "\n"
     ]
    }
   ],
   "source": [
    "bins = [50, 50, 50, 50]\n",
    "plot_estimator(ESTIMATOR_1, bins=bins, labels=codes, title_label='PWR_MOX_Estimator_1', x_label='$\\delta F(Pu)$', y_label='Density',range=(-1.4,1.4))\n",
    "\n",
    "for code in codes:\n",
    "    print_means_estimator(code,ESTIMATOR_1)\n",
    "\n",
    "for code in codes:\n",
    "    print_std_estimator(code,ESTIMATOR_1)    "
   ]
  },
  {
   "cell_type": "markdown",
   "metadata": {},
   "source": [
    "## 1.5 Plotting Estimator 2\n",
    "\n",
    "The second estimator is related to the relative slope of the reactor evolution. Let's define :\n",
    "\n",
    "$\\frac{\\Delta M}{M}(Pu_i) = \\frac{M^{BOC}(Pu_i) - M^{EOC}(Pu_i)}{M^{BOC}(Pu_i)}$\n",
    "\n",
    "The estimateur 2 is then the relative difference of this observable : \n",
    "\n",
    "$\\delta \\frac{\\Delta M}{M}(Pu_i) = \\frac{\\frac{\\Delta M}{M}(Pu_i)_{FLM} - \\frac{\\Delta M}{M}(Pu_i)_{FF}}{\\frac{\\Delta M}{M}(Pu_i)_{FF}}$"
   ]
  },
  {
   "cell_type": "code",
   "execution_count": 43,
   "metadata": {},
   "outputs": [
    {
     "data": {
      "image/png": "[encoded data removed]",
      "text/plain": [
       "<Figure size 864x720 with 4 Axes>"
      ]
     },
     "metadata": {
      "needs_background": "light"
     },
     "output_type": "display_data"
    },
    {
     "name": "stdout",
     "output_type": "stream",
     "text": [
      "----------------------------------------\n",
      "Mean value\n",
      "----------------------------------------\n",
      "----- CLASS -----\n",
      "FLM : \n",
      "Pu @BOC :  0.019136891473184973  - Pu @EOC :  0.019136891473184973\n",
      "FF : \n",
      "Pu @BOC :  0.019136891473184973  - Pu @EOC :  0.019136891473184973\n",
      "\n",
      "\n",
      "----------------------------------------\n",
      "Mean value\n",
      "----------------------------------------\n",
      "----- ANICCA -----\n",
      "FLM : \n",
      "Pu @BOC :  -0.08198937455454137  - Pu @EOC :  -0.08198937455454137\n",
      "FF : \n",
      "Pu @BOC :  -0.08198937455454137  - Pu @EOC :  -0.08198937455454137\n",
      "\n",
      "\n",
      "----------------------------------------\n",
      "Mean value\n",
      "----------------------------------------\n",
      "----- TrEvol -----\n",
      "FLM : \n",
      "Pu @BOC :  -0.3614508679030566  - Pu @EOC :  -0.3614508679030566\n",
      "FF : \n",
      "Pu @BOC :  -0.3614508679030566  - Pu @EOC :  -0.3614508679030566\n",
      "\n",
      "\n",
      "----------------------------------------\n",
      "Mean value\n",
      "----------------------------------------\n",
      "----- CYCLUS -----\n",
      "FLM : \n",
      "Pu @BOC :  0.004085908861234128  - Pu @EOC :  0.004085908861234128\n",
      "FF : \n",
      "Pu @BOC :  0.004085908861234128  - Pu @EOC :  0.004085908861234128\n",
      "\n",
      "\n",
      "----------------------------------------\n",
      "Standard Deviation\n",
      "----------------------------------------\n",
      "----- CLASS -----\n",
      "FLM : \n",
      "Pu @BOC :  0.1283884071649739  - Pu @EOC :  0.1283884071649739\n",
      "FF : \n",
      "Pu @BOC :  0.1283884071649739  - Pu @EOC :  0.1283884071649739\n",
      "\n",
      "\n",
      "----------------------------------------\n",
      "Standard Deviation\n",
      "----------------------------------------\n",
      "----- ANICCA -----\n",
      "FLM : \n",
      "Pu @BOC :  0.592838436319466  - Pu @EOC :  0.592838436319466\n",
      "FF : \n",
      "Pu @BOC :  0.592838436319466  - Pu @EOC :  0.592838436319466\n",
      "\n",
      "\n",
      "----------------------------------------\n",
      "Standard Deviation\n",
      "----------------------------------------\n",
      "----- TrEvol -----\n",
      "FLM : \n",
      "Pu @BOC :  0.7155094673411335  - Pu @EOC :  0.7155094673411335\n",
      "FF : \n",
      "Pu @BOC :  0.7155094673411335  - Pu @EOC :  0.7155094673411335\n",
      "\n",
      "\n",
      "----------------------------------------\n",
      "Standard Deviation\n",
      "----------------------------------------\n",
      "----- CYCLUS -----\n",
      "FLM : \n",
      "Pu @BOC :  0.08835418594806888  - Pu @EOC :  0.08835418594806888\n",
      "FF : \n",
      "Pu @BOC :  0.08835418594806888  - Pu @EOC :  0.08835418594806888\n",
      "\n",
      "\n"
     ]
    }
   ],
   "source": [
    "bins = [50, 50, 50, 50]\n",
    "plot_estimator(ESTIMATOR_2, bins=bins, labels=codes, title_label='PWR_MOX_Estimator_2', x_label='$\\delta F(Pu)$', y_label='Density',range=(-2.0,1.4))\n",
    "\n",
    "for code in codes:\n",
    "    print_means_estimator(code,ESTIMATOR_2)\n",
    "\n",
    "for code in codes:\n",
    "    print_std_estimator(code,ESTIMATOR_2)    "
   ]
  },
  {
   "cell_type": "markdown",
   "metadata": {},
   "source": [
    "## 1.5 Plotting Estimator 3\n",
    "\n",
    "The third estimator is related to the absolute slope of the reactor evolution. we define :\n",
    "\n",
    "$\\frac{\\Delta M}{\\Delta t}(Pu_i) = \\frac{M^{BOC}(Pu_i) - M^{EOC}(Pu_i)}{\\Delta t}$\n",
    "\n",
    "The estimateur 3 is then the relative difference of this observable : \n",
    "\n",
    "$\\delta \\frac{\\Delta M}{\\Delta t}(Pu_i) = \\frac{\\frac{\\Delta M}{\\Delta t}(Pu_i)_{FLM} - \\frac{\\Delta M}{\\Delta t}(Pu_i)_{FF}}{\\frac{\\Delta M}{\\Delta t}(Pu_i)_{FF}}$"
   ]
  },
  {
   "cell_type": "code",
   "execution_count": 42,
   "metadata": {},
   "outputs": [
    {
     "data": {
      "image/png": "[encoded data removed]",
      "text/plain": [
       "<Figure size 864x720 with 4 Axes>"
      ]
     },
     "metadata": {
      "needs_background": "light"
     },
     "output_type": "display_data"
    },
    {
     "name": "stdout",
     "output_type": "stream",
     "text": [
      "----------------------------------------\n",
      "Mean value\n",
      "----------------------------------------\n",
      "----- CLASS -----\n",
      "FLM : \n",
      "Pu @BOC :  -0.015701764232112635  - Pu @EOC :  -0.015701764232112635\n",
      "FF : \n",
      "Pu @BOC :  -0.015701764232112635  - Pu @EOC :  -0.015701764232112635\n",
      "\n",
      "\n",
      "----------------------------------------\n",
      "Mean value\n",
      "----------------------------------------\n",
      "----- ANICCA -----\n",
      "FLM : \n",
      "Pu @BOC :  0.07040108364367227  - Pu @EOC :  0.07040108364367227\n",
      "FF : \n",
      "Pu @BOC :  0.07040108364367227  - Pu @EOC :  0.07040108364367227\n",
      "\n",
      "\n",
      "----------------------------------------\n",
      "Mean value\n",
      "----------------------------------------\n",
      "----- TrEvol -----\n",
      "FLM : \n",
      "Pu @BOC :  -0.07439441819216312  - Pu @EOC :  -0.07439441819216312\n",
      "FF : \n",
      "Pu @BOC :  -0.07439441819216312  - Pu @EOC :  -0.07439441819216312\n",
      "\n",
      "\n",
      "----------------------------------------\n",
      "Mean value\n",
      "----------------------------------------\n",
      "----- CYCLUS -----\n",
      "FLM : \n",
      "Pu @BOC :  0.003083003497693526  - Pu @EOC :  0.003083003497693526\n",
      "FF : \n",
      "Pu @BOC :  0.003083003497693526  - Pu @EOC :  0.003083003497693526\n",
      "\n",
      "\n",
      "----------------------------------------\n",
      "Standard Deviation\n",
      "----------------------------------------\n",
      "----- CLASS -----\n",
      "FLM : \n",
      "Pu @BOC :  0.1801767516649943  - Pu @EOC :  0.1801767516649943\n",
      "FF : \n",
      "Pu @BOC :  0.1801767516649943  - Pu @EOC :  0.1801767516649943\n",
      "\n",
      "\n",
      "----------------------------------------\n",
      "Standard Deviation\n",
      "----------------------------------------\n",
      "----- ANICCA -----\n",
      "FLM : \n",
      "Pu @BOC :  1.058467518592106  - Pu @EOC :  1.058467518592106\n",
      "FF : \n",
      "Pu @BOC :  1.058467518592106  - Pu @EOC :  1.058467518592106\n",
      "\n",
      "\n",
      "----------------------------------------\n",
      "Standard Deviation\n",
      "----------------------------------------\n",
      "----- TrEvol -----\n",
      "FLM : \n",
      "Pu @BOC :  1.2526105132930783  - Pu @EOC :  1.2526105132930783\n",
      "FF : \n",
      "Pu @BOC :  1.2526105132930783  - Pu @EOC :  1.2526105132930783\n",
      "\n",
      "\n",
      "----------------------------------------\n",
      "Standard Deviation\n",
      "----------------------------------------\n",
      "----- CYCLUS -----\n",
      "FLM : \n",
      "Pu @BOC :  0.11066215685141603  - Pu @EOC :  0.11066215685141603\n",
      "FF : \n",
      "Pu @BOC :  0.11066215685141603  - Pu @EOC :  0.11066215685141603\n",
      "\n",
      "\n"
     ]
    }
   ],
   "source": [
    "bins = [50, 50, 50, 50]\n",
    "plot_estimator(ESTIMATOR_3, bins=bins, labels=codes, title_label='PWR_MOX_Estimator_3', x_label='$\\delta F(Pu)$', y_label='Density',range=(-2.0,3.0))\n",
    "\n",
    "for code in codes:\n",
    "    print_means_estimator(code,ESTIMATOR_3)\n",
    "\n",
    "for code in codes:\n",
    "    print_std_estimator(code,ESTIMATOR_3)    "
   ]
  },
  {
   "cell_type": "code",
   "execution_count": null,
   "metadata": {
    "scrolled": false
   },
   "outputs": [],
   "source": []
  },
  {
   "cell_type": "code",
   "execution_count": null,
   "metadata": {},
   "outputs": [],
   "source": []
  },
  {
   "cell_type": "code",
   "execution_count": null,
   "metadata": {},
   "outputs": [],
   "source": []
  },
  {
   "cell_type": "code",
   "execution_count": null,
   "metadata": {},
   "outputs": [],
   "source": []
  },
  {
   "cell_type": "code",
   "execution_count": null,
   "metadata": {},
   "outputs": [],
   "source": []
  },
  {
   "cell_type": "code",
   "execution_count": null,
   "metadata": {},
   "outputs": [],
   "source": []
  },
  {
   "cell_type": "code",
   "execution_count": null,
   "metadata": {},
   "outputs": [],
   "source": []
  },
  {
   "cell_type": "code",
   "execution_count": null,
   "metadata": {},
   "outputs": [],
   "source": []
  },
  {
   "cell_type": "code",
   "execution_count": null,
   "metadata": {},
   "outputs": [],
   "source": []
  },
  {
   "cell_type": "code",
   "execution_count": null,
   "metadata": {},
   "outputs": [],
   "source": []
  },
  {
   "cell_type": "code",
   "execution_count": null,
   "metadata": {},
   "outputs": [],
   "source": []
  }
 ],
 "metadata": {
  "kernelspec": {
   "display_name": "Python 3",
   "language": "python",
   "name": "python3"
  },
  "language_info": {
   "codemirror_mode": {
    "name": "ipython",
    "version": 3
   },
   "file_extension": ".py",
   "mimetype": "text/x-python",
   "name": "python",
   "nbconvert_exporter": "python",
   "pygments_lexer": "ipython3",
   "version": "3.7.1"
  }
 },
 "nbformat": 4,
 "nbformat_minor": 2
}
