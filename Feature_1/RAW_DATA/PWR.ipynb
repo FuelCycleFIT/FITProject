{
 "cells": [
  {
   "cell_type": "code",
   "execution_count": 1,
   "metadata": {},
   "outputs": [],
   "source": [
    "import matplotlib.pyplot as plt\n",
    "import numpy as np\n",
    "\n",
    "np.set_printoptions(precision=6)\n",
    "plt.style.use('seaborn-white')\n",
    "\n",
    "from sklearn.linear_model import LinearRegression\n",
    "\n",
    "\n",
    "SMALL_SIZE = 14\n",
    "MEDIUM_SIZE = SMALL_SIZE +2\n",
    "BIGGER_SIZE = MEDIUM_SIZE +2\n",
    "\n",
    "plt.rc('font', size=SMALL_SIZE)          # controls default text sizes\n",
    "plt.rc('axes', titlesize=SMALL_SIZE)     # fontsize of the axes title\n",
    "plt.rc('axes', labelsize=MEDIUM_SIZE)    # fontsize of the x and y labels\n",
    "plt.rc('xtick', labelsize=SMALL_SIZE)    # fontsize of the tick labels\n",
    "plt.rc('ytick', labelsize=SMALL_SIZE)    # fontsize of the tick labels\n",
    "plt.rc('legend', fontsize=SMALL_SIZE)    # legend fontsize\n",
    "plt.rc('figure', titlesize=BIGGER_SIZE)  # fontsize of the figure title"
   ]
  },
  {
   "cell_type": "markdown",
   "metadata": {},
   "source": [
    "# 1. PWR\n",
    "\n",
    "## 1.0 Reactor Data\n",
    "\n",
    "### PWR - CLASS\n",
    "#### Reactor\n",
    "    - 17x17 infinite assembly\n",
    "    - Neural network prediction of the k$_{inf}$\n",
    "    - k$_{threshold}$ is 1.034\n",
    "    - Heavy mass: 72 tons\n",
    "    - Thermal power: 3 GWth\n",
    "    - Loading factor: 75%\n",
    "    - Irradiation time: 3 years that correspond to a burn-up closed to 34 GWd/t\n",
    "#### FLM\n",
    "    - 17x17 infinite assembly\n",
    "    - Neural network prediction of the k$_{inf}$\n",
    "    - k$_{threshold}$ is 1.034\n",
    "\n",
    "### PWR - Tr_Evol\n",
    "#### Reactor\n",
    "    - Thermal_power_(GW) : 3.0\n",
    "    - Electrical_power_(GW) : 1.0\n",
    "    - Load_factor : 0.9\n",
    "    - Core_mass_(tHM) : 72.0\n",
    "    - Burn_up_(GWd/tHM) : 41\n",
    "#### FLM\n",
    "    - Baker \\& Ross\n",
    "\n",
    "\n",
    "### PWR - ANICCA\n",
    "#### Reactor\n",
    "\n",
    "    - Fuel Heavy Mass: 22.2908 t / year  from 1 GW*0.85*365.25/41 GWd/t\n",
    "    - BU : 41 GWd/t (this one from the reference library, so I set this like a reference for all simulations to calculate the annual loading masses)\n",
    "    - Load Factor : 85% (I changed this to be more representative)\n",
    "    - Electric Power : 1.02 GWth\n",
    "    - Thermal Power : 3 GWth\n",
    "    - Cycle Time : 1390 EFPD\n",
    "    - Core Mass : 101.7 tHM (1390*3/41… right?)\n",
    "\n",
    "#### FLM\n",
    "    - Baker \\& Ross\n",
    "\n",
    "    \n",
    "### PWR - CYCLUS\n",
    "#### Reactor\n",
    "    - Heavy mass: 72 tons\n",
    "    - Thermal power: 2.7 GWth\n",
    "    - Loading factor: 100%\n",
    "    - BurnUp: 41.09 GWd/t\n",
    "#### FLM\n",
    "    - Baker \\& Ross\n",
    "\n",
    "    "
   ]
  },
  {
   "cell_type": "markdown",
   "metadata": {},
   "source": [
    "## 1.1 Loading Data files and Variable declaration\n",
    "### NICO / CLASS"
   ]
  },
  {
   "cell_type": "code",
   "execution_count": 2,
   "metadata": {},
   "outputs": [],
   "source": [
    "def load_class_pwr_data(fml_file = 'CLASS_CNRS_PWR/PWR_MOX_FLM.dat',  ff_file = 'CLASS_CNRS_PWR/PWR_MOX_FF.dat'):\n",
    "    M_CLASS_FLM = np.loadtxt(fml_file)\n",
    "    M_CLASS_FF = np.loadtxt(ff_file)\n",
    "    \n",
    "    total_mass = 72\n",
    "    M_CLASS_FLM_BOC_FPu = M_CLASS_FLM[:,5]/total_mass\n",
    "    M_CLASS_FLM_EOC_FPu = M_CLASS_FLM[:,6]/total_mass\n",
    "        \n",
    "    M_CLASS_FF_BOC_FPu = M_CLASS_FF[:,5]/total_mass\n",
    "    M_CLASS_FF_EOC_FPu = M_CLASS_FF[:,6]/total_mass\n",
    "    \n",
    "    a1 = M_CLASS_FLM[:, [13, 15, 17, 19, 21, 7]]\n",
    "    a2 = M_CLASS_FF[:, [13, 15, 17, 19, 21, 7]]\n",
    "\n",
    "    M_CLASS_FLM_BOC_PuDOE = a1/np.sum(a1,axis=1,keepdims=True)\n",
    "    M_CLASS_FF_BOC_PuDOE =  a2/np.sum(a2,axis=1,keepdims=True)\n",
    "\n",
    "    return M_CLASS_FLM_BOC_FPu, M_CLASS_FLM_EOC_FPu, M_CLASS_FF_BOC_FPu, M_CLASS_FF_EOC_FPu, M_CLASS_FLM_BOC_PuDOE, M_CLASS_FF_BOC_PuDOE\n"
   ]
  },
  {
   "cell_type": "markdown",
   "metadata": {},
   "source": [
    "### YVAN / ANICCA"
   ]
  },
  {
   "cell_type": "code",
   "execution_count": 3,
   "metadata": {},
   "outputs": [],
   "source": [
    "def load_anica_pwr_data(fml_file = 'ANICCA_SCK/PWR_MOX_FLM',  ff_file = 'ANICCA_SCK/PWR_MOX_FF'):\n",
    "\n",
    "    M_ANICCA_FLM_BOC = np.loadtxt( fml_file + '_BOC.dat')\n",
    "    M_ANICCA_FLM_EOC = np.loadtxt( fml_file + '_EOC.dat')\n",
    "    M_ANICCA_FF_BOC = np.loadtxt( ff_file + '_BOC.dat')\n",
    "    M_ANICCA_FF_EOC = np.loadtxt( ff_file + '_EOC.dat')\n",
    "\n",
    "    M_ANICCA_FLM_BOC_FPu = M_ANICCA_FLM_BOC[:,2]\n",
    "    M_ANICCA_FLM_EOC_FPu = M_ANICCA_FLM_EOC[:,2]\n",
    "\n",
    "    M_ANICCA_FF_BOC_FPu = M_ANICCA_FF_BOC[:,2]\n",
    "    M_ANICCA_FF_EOC_FPu = M_ANICCA_FF_EOC[:,2]\n",
    "    \n",
    "    a1 = M_ANICCA_FLM_BOC[:,[6,7,8,9,10,3]]\n",
    "    a2 = M_ANICCA_FF_BOC[:,[6,7,8,9,10,3]]\n",
    "\n",
    "    M_ANICCA_FLM_BOC_PuDOE = a1/np.sum(a1,axis=1,keepdims=True)\n",
    "    M_ANICCA_FF_BOC_PuDOE =  a2/np.sum(a2,axis=1,keepdims=True)\n",
    "\n",
    "    return M_ANICCA_FLM_BOC_FPu, M_ANICCA_FLM_EOC_FPu, M_ANICCA_FF_BOC_FPu, M_ANICCA_FF_EOC_FPu, M_ANICCA_FLM_BOC_PuDOE, M_ANICCA_FF_BOC_PuDOE"
   ]
  },
  {
   "cell_type": "markdown",
   "metadata": {},
   "source": [
    "### ARIS / TrEvol"
   ]
  },
  {
   "cell_type": "code",
   "execution_count": 4,
   "metadata": {},
   "outputs": [],
   "source": [
    "def load_TrEvol_pwr_data(file = 'TREVOL_CIEMAT/MOX_raw.txt'):\n",
    "   \n",
    "    M_TrEvol = np.loadtxt(file)\n",
    "    total_mass =  24\n",
    "\n",
    "    M_TrEvol = M_TrEvol[(M_TrEvol[:,21] > 0.8*total_mass)]\n",
    "\n",
    "    M_TrEvol_FLM_BOC_FPu = M_TrEvol[:,23] / total_mass\n",
    "    M_TrEvol_FLM_EOC_FPu = M_TrEvol[:,33] / total_mass\n",
    "\n",
    "    M_TrEvol_FF_BOC_FPu = M_TrEvol[:,3] / total_mass\n",
    "    M_TrEvol_FF_EOC_FPu = M_TrEvol[:,13] / total_mass\n",
    "    \n",
    "    a1 = M_TrEvol[:,[26,27,28,29,30,24]]\n",
    "    a2 = M_TrEvol[:,[26,27,28,29,30,24]]\n",
    "    \n",
    "    M_TrEvol_FLM_BOC_PuDOE = a1/np.sum(a1,axis=1,keepdims=True)\n",
    "    M_TrEvol_FF_BOC_PuDOE =  a2/np.sum(a2,axis=1,keepdims=True)\n",
    "\n",
    "    return M_TrEvol_FLM_BOC_FPu, M_TrEvol_FLM_EOC_FPu, M_TrEvol_FF_BOC_FPu, M_TrEvol_FF_EOC_FPu, M_TrEvol_FLM_BOC_PuDOE, M_TrEvol_FF_BOC_PuDOE"
   ]
  },
  {
   "cell_type": "markdown",
   "metadata": {},
   "source": [
    "### BaM / CYCLUS"
   ]
  },
  {
   "cell_type": "code",
   "execution_count": 5,
   "metadata": {},
   "outputs": [],
   "source": [
    "def load_cyclus_pwr_data(file = 'CYCLUS_UWM'):\n",
    "        \n",
    "    M_Cyclus_FLM = np.loadtxt(file + '/eq.csv', delimiter=',')\n",
    "    M_Cyclus_FF = np.loadtxt(file + '/fix.csv', delimiter=',')\n",
    "\n",
    "    M_Cyclus_FLM_BOC_FPu = M_Cyclus_FLM[:,13]\n",
    "    M_Cyclus_FLM_EOC_FPu = M_Cyclus_FLM[:,14]\n",
    "\n",
    "    M_Cyclus_FF_BOC_FPu = M_Cyclus_FF[:,13]\n",
    "    M_Cyclus_FF_EOC_FPu = M_Cyclus_FF[:,14]\n",
    "\n",
    "    a1 = M_Cyclus_FLM[:,[1,2,3,4,5,6]]\n",
    "    a2 = M_Cyclus_FF[:,[1,2,3,4,5,6]]\n",
    "    \n",
    "    M_Cyclus_FLM_BOC_PuDOE = a1/np.sum(a1,axis=1,keepdims=True)\n",
    "    M_Cyclus_FF_BOC_PuDOE =  a2/np.sum(a2,axis=1,keepdims=True)\n",
    "    \n",
    "    return M_Cyclus_FLM_BOC_FPu, M_Cyclus_FLM_EOC_FPu, M_Cyclus_FF_BOC_FPu, M_Cyclus_FF_EOC_FPu, M_Cyclus_FLM_BOC_PuDOE, M_Cyclus_FF_BOC_PuDOE"
   ]
  },
  {
   "cell_type": "markdown",
   "metadata": {},
   "source": [
    "### Jin / EFMC Method"
   ]
  },
  {
   "cell_type": "code",
   "execution_count": 6,
   "metadata": {},
   "outputs": [],
   "source": [
    "#def load_efmc_pwr_data(file = 'ORION_ORNL'):\n",
    "#    \n",
    "#    M_efmc = np.loadtxt(file + '/PWR.txt', delimiter=' ')\n",
    "#\n",
    "#    M_efmc_FLM_BOC_FPu = M_efmc[:,0]\n",
    "#    M_efmc_FLM_EOC_FPu = M_efmc[:,1]\n",
    "#\n",
    "#    M_efmc_FF_BOC_FPu = np.ones(np.size(M_efmc[:,0]))\n",
    "#    M_efmc_FF_BOC_FPu *= 0.05634\n",
    "#    M_efmc_FF_EOC_FPu = M_efmc[:,2]\n",
    "#\n",
    "#    a1 = M_efmc[:,[3,4,5,6,7,8]]\n",
    "#    a2 = M_efmc[:,[3,4,5,6,7,8]]\n",
    "#    \n",
    "#    M_efmc_FLM_BOC_PuDOE = a1/np.sum(a1,axis=1,keepdims=True)\n",
    "#    M_efmc_FF_BOC_PuDOE =  a2/np.sum(a2,axis=1,keepdims=True)\n",
    "#    \n",
    "#    return M_efmc_FLM_BOC_FPu, M_efmc_FLM_EOC_FPu, M_efmc_FF_BOC_FPu, M_efmc_FF_EOC_FPu, M_efmc_FLM_BOC_PuDOE, M_efmc_FF_BOC_PuDOE"
   ]
  },
  {
   "cell_type": "markdown",
   "metadata": {},
   "source": [
    "## Cedric Dymond 6"
   ]
  },
  {
   "cell_type": "code",
   "execution_count": 7,
   "metadata": {},
   "outputs": [],
   "source": [
    "#def load_dymond_pwr_data(file = 'DYMOND_PWR_MOX'):\n",
    "#        \n",
    "#    M_Dymond_FF_BOC = np.loadtxt(file + '/DYMOND_PWR_FF_BOC.csv', delimiter=',', skiprows =1)\n",
    "#    M_Dymond_FF_EOC = np.loadtxt(file + '/DYMOND_PWR_FF_EOC.csv', delimiter=',', skiprows =1)\n",
    "#    M_Dymond_FLM_BOC = np.loadtxt(file + '/DYMOND_PWR_FLM_BOC.csv', delimiter=',', skiprows =1)\n",
    "#    M_Dymond_FLM_EOC = np.loadtxt(file + '/DYMOND_PWR_FLM_EOC.csv', delimiter=',', skiprows =1)\n",
    "#\n",
    "#    total_mass = 72\n",
    "#    M_Dymond_FLM_BOC_FPu = M_Dymond_FLM_BOC[:1000,3]/total_mass\n",
    "#    M_Dymond_FLM_EOC_FPu = M_Dymond_FLM_EOC[:1000,3]/total_mass\n",
    "#\n",
    "#    M_Dymond_FF_BOC_FPu = M_Dymond_FF_BOC[:1000,3]/total_mass\n",
    "#    M_Dymond_FF_EOC_FPu = M_Dymond_FF_EOC[:1000,3]/total_mass\n",
    "#\n",
    "#    a1 = M_Dymond_FLM_BOC[:1000,[6,7,8,9,10,11]]\n",
    "#    a2 = M_Dymond_FF_BOC[:1000,[6,7,8,9,10,11]]\n",
    "#    \n",
    "#    M_Dymond_FLM_BOC_PuDOE = a1/np.sum(a1,axis=1,keepdims=True)\n",
    "#    M_Dymond_FF_BOC_PuDOE =  a2/np.sum(a2,axis=1,keepdims=True)\n",
    "#            \n",
    "#    return M_Dymond_FLM_BOC_FPu, M_Dymond_FLM_EOC_FPu, M_Dymond_FF_BOC_FPu, M_Dymond_FF_EOC_FPu, M_Dymond_FLM_BOC_PuDOE, M_Dymond_FF_BOC_PuDOE"
   ]
  },
  {
   "cell_type": "markdown",
   "metadata": {},
   "source": [
    "## Guillaume Data"
   ]
  },
  {
   "cell_type": "code",
   "execution_count": 6,
   "metadata": {},
   "outputs": [],
   "source": [
    "def load_cosi6_pwr_data(fml_file = 'COSI6_PWR_MOX/COSI6_PWR_MOX_FLM.dat', ff_file = 'COSI6_PWR_MOX/COSI6_PWR_MOX_FF.dat'):\n",
    "    M_COSI6_FLM = np.loadtxt(fml_file)\n",
    "    M_COSI6_FF = np.loadtxt(ff_file)\n",
    "    \n",
    "    M_COSI6_FLM_BOC_FPu = M_COSI6_FLM[:,26]\n",
    "    M_COSI6_FLM_EOC_FPu = M_COSI6_FLM[:,27]\n",
    "    \n",
    "    M_COSI6_FF_BOC_FPu = M_COSI6_FF[:,26]\n",
    "    M_COSI6_FF_EOC_FPu = M_COSI6_FF[:,27]\n",
    "    \n",
    "    a1 = M_COSI6_FLM[:,[0,1,5,2,3,4]]\n",
    "    a2 = M_COSI6_FF[:,[0,1,5,2,3,4]]\n",
    "    \n",
    "    M_COSI6_FLM_BOC_PuDOE = a1/np.sum(a1,axis=1,keepdims=True)\n",
    "    M_COSI6_FF_BOC_PuDOE = a2/np.sum(a2,axis=1,keepdims=True)\n",
    "    \n",
    "    return M_COSI6_FLM_BOC_FPu, M_COSI6_FLM_EOC_FPu, M_COSI6_FF_BOC_FPu, M_COSI6_FF_EOC_FPu, M_COSI6_FLM_BOC_PuDOE, M_COSI6_FF_BOC_PuDOE\n"
   ]
  },
  {
   "cell_type": "markdown",
   "metadata": {},
   "source": [
    "### Load Data"
   ]
  },
  {
   "cell_type": "code",
   "execution_count": 7,
   "metadata": {},
   "outputs": [],
   "source": [
    "M_FLM_BOC_FPu = {}\n",
    "M_FLM_EOC_FPu = {}\n",
    "M_FF_BOC_FPu = {}\n",
    "M_FF_EOC_FPu = {}\n",
    "\n",
    "M_FLM_BOC_PuDOE = {}\n",
    "M_FF_BOC_PuDOE = {}\n",
    "\n",
    "M_FLM_BOC_MUPu = {}\n",
    "\n",
    "M_FLM_BOC_FPu['ANICCA'], M_FLM_EOC_FPu['ANICCA'], M_FF_BOC_FPu['ANICCA'], M_FF_EOC_FPu['ANICCA'], M_FLM_BOC_PuDOE['ANICCA'], M_FF_BOC_PuDOE['ANICCA'] = load_anica_pwr_data()\n",
    "M_FLM_BOC_FPu['CLASS'], M_FLM_EOC_FPu['CLASS'], M_FF_BOC_FPu['CLASS'], M_FF_EOC_FPu['CLASS'], M_FLM_BOC_PuDOE['CLASS'], M_FF_BOC_PuDOE['CLASS'] = load_class_pwr_data()    \n",
    "M_FLM_BOC_FPu['TrEvol'], M_FLM_EOC_FPu['TrEvol'], M_FF_BOC_FPu['TrEvol'], M_FF_EOC_FPu['TrEvol'], M_FLM_BOC_PuDOE['TrEvol'], M_FF_BOC_PuDOE['TrEvol'] = load_TrEvol_pwr_data()\n",
    "M_FLM_BOC_FPu['CYCLUS'], M_FLM_EOC_FPu['CYCLUS'], M_FF_BOC_FPu['CYCLUS'], M_FF_EOC_FPu['CYCLUS'], M_FLM_BOC_PuDOE['CYCLUS'], M_FF_BOC_PuDOE['CYCLUS'] = load_cyclus_pwr_data()\n",
    "#M_FLM_BOC_FPu['ORION'], M_FLM_EOC_FPu['ORION'], M_FF_BOC_FPu['ORION'], M_FF_EOC_FPu['ORION'], M_FLM_BOC_PuDOE['ORION'], M_FF_BOC_PuDOE['ORION'] = load_efmc_pwr_data()\n",
    "#M_FLM_BOC_FPu['DYMOND'], M_FLM_EOC_FPu['DYMOND'], M_FF_BOC_FPu['DYMOND'], M_FF_EOC_FPu['DYMOND'], M_FLM_BOC_PuDOE['DYMOND'], M_FF_BOC_PuDOE['DYMOND'] = load_dymond_pwr_data()\n",
    "M_FLM_BOC_FPu['COSI6'], M_FLM_EOC_FPu['COSI6'], M_FF_BOC_FPu['COSI6'], M_FF_EOC_FPu['COSI6'], M_FLM_BOC_PuDOE['COSI6'], M_FF_BOC_PuDOE['COSI6'] = load_cosi6_pwr_data()\n",
    "\n",
    "\n",
    "PWR_MASS = {}\n",
    "PWR_MASS['CLASS'] = 72\n",
    "PWR_MASS['ANICCA'] = 101.7\n",
    "PWR_MASS['TrEvol'] = 23\n",
    "PWR_MASS['CYCLUS'] = 72\n",
    "#PWR_MASS['ORION'] = 1\n",
    "#PWR_MASS['DYMOND'] = 72\n",
    "PWR_MASS['COSI6'] = 1\n",
    "\n",
    "\n",
    "\n",
    "PWR_CYCLE = {}\n",
    "PWR_CYCLE['CLASS'] = 3\n",
    "PWR_CYCLE['ANICCA'] = 1390/0.85/365.25\n",
    "PWR_CYCLE['TrEvol'] = 41 / (3*0.9) *72.0 /365.25\n",
    "PWR_CYCLE['CYCLUS'] = 41.09 /2.7 *72 /365.25\n",
    "#PWR_CYCLE['ORION'] = 3.6\n",
    "#PWR_CYCLE['DYMOND'] = 3\n",
    "PWR_CYCLE['COSI6'] = 4\n",
    "\n",
    "colors = {}\n",
    "colors['CLASS'] = \"black\"\n",
    "colors['ANICCA'] = \"crimson\"\n",
    "colors['CYCLUS'] = \"royalblue\"\n",
    "colors['TrEvol'] = \"limegreen\"\n",
    "#colors['ORION'] = \"darkorange\"\n",
    "#colors['DYMOND'] = \"violet\"\n",
    "colors['COSI6'] = \"cyan\"\n"
   ]
  },
  {
   "cell_type": "markdown",
   "metadata": {},
   "source": [
    "## Methods"
   ]
  },
  {
   "cell_type": "markdown",
   "metadata": {},
   "source": [
    "### Estimators"
   ]
  },
  {
   "cell_type": "markdown",
   "metadata": {},
   "source": [
    "#### Estimator 1\n",
    "Estimator 1 is calculated from the Pu fraction @ B.O.C. for each run *i*:\n",
    "\n",
    "$F(Pu_i) = \\frac{Pu_i^{BOC}}{M_{HN}}$\n",
    "\n",
    "With $M_{HN}$ the initial heavy mass. The estimator 1 is then calculated as : \n",
    "\n",
    "$\\delta F(Pu_i) = \\frac{F_{FLM}(Pu_i) - F_{FF}(Pu_i)}{F_{FF}(Pu_i)}$"
   ]
  },
  {
   "cell_type": "code",
   "execution_count": 9,
   "metadata": {},
   "outputs": [],
   "source": [
    "ESTIMATOR_1 = {}\n",
    "_codes = ['ANICCA', 'CLASS', 'COSI6', 'CYCLUS', 'TrEvol']\n",
    "for code in _codes:\n",
    "    ESTIMATOR_1[code] = (M_FLM_BOC_FPu[code] - M_FF_BOC_FPu[code] ) / M_FF_BOC_FPu[code]\n"
   ]
  },
  {
   "cell_type": "markdown",
   "metadata": {},
   "source": [
    "#### Estimator 2\n",
    "\n",
    "The second estimator is related to the relative slope of the reactor evolution. Let's define :\n",
    "\n",
    "$\\frac{\\Delta M}{M}(Pu_i) = \\frac{M^{BOC}(Pu_i) - M^{EOC}(Pu_i)}{M^{BOC}(Pu_i)}$\n",
    "\n",
    "The estimateur 2 is then the relative difference of this observable : \n",
    "\n",
    "$\\delta \\frac{\\Delta M}{M}(Pu_i) = \\frac{\\frac{\\Delta M}{M}(Pu_i)_{FLM} - \\frac{\\Delta M}{M}(Pu_i)_{FF}}{\\frac{\\Delta M}{M}(Pu_i)_{FF}}$"
   ]
  },
  {
   "cell_type": "code",
   "execution_count": 10,
   "metadata": {},
   "outputs": [],
   "source": [
    "ESTIMATOR_2 = {}\n",
    "_codes = ['ANICCA', 'CLASS', 'COSI6', 'CYCLUS', 'TrEvol']\n",
    "for code in _codes:\n",
    "    _fml = (M_FLM_BOC_FPu[code] -  M_FLM_EOC_FPu[code])/M_FLM_BOC_FPu[code]\n",
    "    _ff = (M_FF_BOC_FPu[code] -  M_FF_EOC_FPu[code])/M_FF_BOC_FPu[code]\n",
    "    ESTIMATOR_2[code] = (_fml - _ff)/_ff\n"
   ]
  },
  {
   "cell_type": "markdown",
   "metadata": {},
   "source": [
    "#### Estimator 3\n",
    "\n",
    "The third estimator is related to the absolute slope of the reactor evolution. we define :\n",
    "\n",
    "$\\frac{\\Delta M}{\\Delta t}(Pu_i) = \\frac{M^{BOC}(Pu_i) - M^{EOC}(Pu_i)}{\\Delta t}$\n",
    "\n",
    "The estimateur 3 is then the relative difference of this observable : \n",
    "\n",
    "$\\delta \\frac{\\Delta M}{\\Delta t}(Pu_i) = \\frac{\\frac{\\Delta M}{\\Delta t}(Pu_i)_{FLM} - \\frac{\\Delta M}{\\Delta t}(Pu_i)_{FF}}{\\frac{\\Delta M}{\\Delta t}(Pu_i)_{FF}}$"
   ]
  },
  {
   "cell_type": "code",
   "execution_count": 11,
   "metadata": {},
   "outputs": [],
   "source": [
    "ESTIMATOR_3 = {}\n",
    "\n",
    "_codes = ['ANICCA', 'CLASS', 'COSI6', 'CYCLUS', 'TrEvol']\n",
    "for code in _codes:\n",
    "    _fml = (M_FLM_BOC_FPu[code] -  M_FLM_EOC_FPu[code])* PWR_MASS[code]/PWR_CYCLE[code]\n",
    "    _ff = (M_FF_BOC_FPu[code] -  M_FF_EOC_FPu[code])* PWR_MASS[code]/PWR_CYCLE[code]\n",
    "    ESTIMATOR_3[code] = (_fml - _ff)/_ff\n"
   ]
  },
  {
   "cell_type": "markdown",
   "metadata": {},
   "source": [
    "### Plots"
   ]
  },
  {
   "cell_type": "code",
   "execution_count": 12,
   "metadata": {},
   "outputs": [],
   "source": [
    "def plot_pu(datas_boc, datas_eoc, labels=[], bins=[], x_label='Mass Fraction', y_label='Norm. D.', title_label='PWR MOX FLM - Pu distribution', range=(0,0.20)):\n",
    "\n",
    "    fig, axs = plt.subplots(len(labels), 1, sharex=True, figsize=(16, 10))\n",
    "    fig.subplots_adjust(hspace=0.0)\n",
    "\n",
    "    #plt.title(title_label,fontsize=20)\n",
    "    axs[0].set_title(title_label)\n",
    "    plt.xlabel(x_label)\n",
    "\n",
    "    #plt.ylabel('Number of Occurences')\n",
    "    for i, label in enumerate(labels):\n",
    "        bin = 0\n",
    "        if len(bins) >0:\n",
    "            bin = bins[i]\n",
    "        data_boc = datas_boc[label]\n",
    "        data_eoc = datas_eoc[label]\n",
    "\n",
    "        axs[i].grid(True)\n",
    "        axs[i].set_ylabel(y_label)\n",
    "        axs[i].hist(data_boc,bins=bin,range=range,histtype='stepfilled', alpha=1.0, density=True,lw=2,label='B.O.C.', color=\"black\")\n",
    "        axs[i].hist(data_eoc,bins=bin,range=range,histtype='stepfilled', alpha=0.4, density=True,lw=2,label='E.O.C.', color=\"red\")\n",
    "        axs[i].text(0.8, 0.8,label,horizontalalignment='center',verticalalignment='center',transform = axs[i].transAxes, fontsize=15)\n",
    "        axs[i].legend(loc='upper right',prop={'size': 12})\n",
    "    plt.show()\n",
    "    fig.savefig(\"FIG/PWR_MOX_FLM_Pu.pdf\",bbox_inches='tight')"
   ]
  },
  {
   "cell_type": "code",
   "execution_count": 13,
   "metadata": {},
   "outputs": [],
   "source": [
    "def plot_estimator(datas,labels=[], bins=[], x_label='X', y_label='Y', title_label='Title', range=(0,1)):\n",
    "\n",
    "    fig, axs = plt.subplots(len(labels), 1, sharex=True, figsize=(16, 10))\n",
    "    fig.subplots_adjust(hspace=0.0)\n",
    "\n",
    "    #plt.title(title_label,fontsize=20)\n",
    "    axs[0].set_title(title_label)\n",
    "    plt.xlabel(x_label)\n",
    "\n",
    "    #plt.ylabel('Number of Occurences')\n",
    "    for i, label in enumerate(labels):\n",
    "        bin = 0\n",
    "        if len(bins) >0:\n",
    "            bin = bins[i]\n",
    "        data = datas[label]\n",
    "\n",
    "        axs[i].grid(True)\n",
    "        axs[i].set_ylabel(y_label)\n",
    "        axs[i].hist(data,bins=bin,range=range,histtype='step', alpha=1.0, density=True,lw=3,color=\"black\")\n",
    "        axs[i].text(0.8, 0.8,label,horizontalalignment='center',verticalalignment='center',transform = axs[i].transAxes, fontsize=15)\n",
    "    plt.show()\n",
    "    fig.savefig(\"FIG/\"+title_label+\".pdf\",bbox_inches='tight')"
   ]
  },
  {
   "cell_type": "markdown",
   "metadata": {},
   "source": [
    "### Print"
   ]
  },
  {
   "cell_type": "code",
   "execution_count": 14,
   "metadata": {},
   "outputs": [],
   "source": [
    "def print_means_pu(code):\n",
    "    print(\"----------------------------------------\")\n",
    "    print(\"Mean value\")\n",
    "    print(\"----------------------------------------\")\n",
    "    print(\"-----\",code,\"-----\")\n",
    "    print(\"FLM : \")      \n",
    "    print(\"Pu @BOC : \",np.mean(M_FLM_BOC_FPu[code]),\" - Pu @EOC : \",np.mean(M_FLM_EOC_FPu[code]))\n",
    "    print (\"FF : \")      \n",
    "    print(\"Pu @BOC : \",np.mean(M_FF_BOC_FPu[code]),\" - Pu @EOC : \",np.mean(M_FF_EOC_FPu[code]))\n",
    "    print(\"\\n\")\n",
    "    \n",
    "\n",
    "def print_std_pu(code):\n",
    "    print(\"----------------------------------------\")\n",
    "    print(\"Standard Deviation\")\n",
    "    print(\"----------------------------------------\")\n",
    "    print(\"-----\",code,\"-----\")\n",
    "    print(\"FLM : \")      \n",
    "    print(\"Pu @BOC : \",np.std(M_FLM_BOC_FPu[code]),\" - Pu @EOC : \",np.std(M_FLM_EOC_FPu[code]))\n",
    "    print (\"FF : \")      \n",
    "    print(\"Pu @BOC : \",np.std(M_FF_BOC_FPu[code]),\" - Pu @EOC : \",np.std(M_FF_EOC_FPu[code]))\n",
    "    print(\"\\n\")"
   ]
  },
  {
   "cell_type": "code",
   "execution_count": 15,
   "metadata": {},
   "outputs": [],
   "source": [
    "def print_means_estimator(code,est):\n",
    "    print(\"----------------------------------------\")\n",
    "    print(\"Mean value\")\n",
    "    print(\"----------------------------------------\")\n",
    "    print(\"-----\",code,\"-----\")\n",
    "    print(\"estimator : \",np.mean(est[code]))\n",
    "    print(\"\\n\")\n",
    "    \n",
    "\n",
    "def print_std_estimator(code,est):\n",
    "    print(\"----------------------------------------\")\n",
    "    print(\"Standard Deviation\")\n",
    "    print(\"----------------------------------------\")\n",
    "    print(\"-----\",code,\"-----\")\n",
    "    print(\"estimator : \",np.std(est[code]))\n",
    "    print(\"\\n\")"
   ]
  },
  {
   "cell_type": "markdown",
   "metadata": {},
   "source": [
    "## 1.2 Plotting Pu for FLM @ BOC and EOC"
   ]
  },
  {
   "cell_type": "code",
   "execution_count": 16,
   "metadata": {},
   "outputs": [],
   "source": [
    "codes = ['ANICCA', 'CLASS', 'COSI6', 'CYCLUS', 'TrEvol']\n"
   ]
  },
  {
   "cell_type": "code",
   "execution_count": 17,
   "metadata": {},
   "outputs": [
    {
     "name": "stdout",
     "output_type": "stream",
     "text": [
      "[758]\n",
      "[9489]\n",
      "[1343]\n",
      "[271]\n"
     ]
    },
    {
     "ename": "ValueError",
     "evalue": "zero-size array to reduction operation maximum which has no identity",
     "output_type": "error",
     "traceback": [
      "\u001b[0;31m---------------------------------------------------------------------------\u001b[0m",
      "\u001b[0;31mValueError\u001b[0m                                Traceback (most recent call last)",
      "\u001b[0;32m<ipython-input-17-2035f16f93a5>\u001b[0m in \u001b[0;36m<module>\u001b[0;34m\u001b[0m\n\u001b[1;32m      1\u001b[0m \u001b[0;32mfor\u001b[0m \u001b[0mcode\u001b[0m \u001b[0;32min\u001b[0m \u001b[0mcodes\u001b[0m\u001b[0;34m:\u001b[0m\u001b[0;34m\u001b[0m\u001b[0;34m\u001b[0m\u001b[0m\n\u001b[1;32m      2\u001b[0m \u001b[0;34m\u001b[0m\u001b[0m\n\u001b[0;32m----> 3\u001b[0;31m     \u001b[0mindex_max\u001b[0m \u001b[0;34m=\u001b[0m \u001b[0;34m(\u001b[0m\u001b[0mnp\u001b[0m\u001b[0;34m.\u001b[0m\u001b[0mwhere\u001b[0m\u001b[0;34m(\u001b[0m\u001b[0mM_FLM_BOC_FPu\u001b[0m\u001b[0;34m[\u001b[0m\u001b[0mcode\u001b[0m\u001b[0;34m]\u001b[0m \u001b[0;34m==\u001b[0m \u001b[0mnp\u001b[0m\u001b[0;34m.\u001b[0m\u001b[0mamax\u001b[0m\u001b[0;34m(\u001b[0m\u001b[0mM_FLM_BOC_FPu\u001b[0m\u001b[0;34m[\u001b[0m\u001b[0mcode\u001b[0m\u001b[0;34m]\u001b[0m\u001b[0;34m)\u001b[0m\u001b[0;34m)\u001b[0m\u001b[0;34m)\u001b[0m\u001b[0;34m[\u001b[0m\u001b[0;36m0\u001b[0m\u001b[0;34m]\u001b[0m\u001b[0;34m\u001b[0m\u001b[0;34m\u001b[0m\u001b[0m\n\u001b[0m\u001b[1;32m      4\u001b[0m     \u001b[0mplt\u001b[0m\u001b[0;34m.\u001b[0m\u001b[0mplot\u001b[0m\u001b[0;34m(\u001b[0m\u001b[0;34m[\u001b[0m\u001b[0;36m0\u001b[0m\u001b[0;34m,\u001b[0m\u001b[0mPWR_CYCLE\u001b[0m\u001b[0;34m[\u001b[0m\u001b[0mcode\u001b[0m\u001b[0;34m]\u001b[0m\u001b[0;34m]\u001b[0m\u001b[0;34m,\u001b[0m \u001b[0;34m[\u001b[0m\u001b[0mM_FLM_BOC_FPu\u001b[0m\u001b[0;34m[\u001b[0m\u001b[0mcode\u001b[0m\u001b[0;34m]\u001b[0m\u001b[0;34m[\u001b[0m\u001b[0mindex_max\u001b[0m\u001b[0;34m]\u001b[0m\u001b[0;34m,\u001b[0m\u001b[0mM_FLM_EOC_FPu\u001b[0m\u001b[0;34m[\u001b[0m\u001b[0mcode\u001b[0m\u001b[0;34m]\u001b[0m\u001b[0;34m[\u001b[0m\u001b[0mindex_max\u001b[0m\u001b[0;34m]\u001b[0m\u001b[0;34m]\u001b[0m\u001b[0;34m,\u001b[0m \u001b[0mcolors\u001b[0m\u001b[0;34m[\u001b[0m\u001b[0mcode\u001b[0m\u001b[0;34m]\u001b[0m\u001b[0;34m,\u001b[0m \u001b[0mlabel\u001b[0m\u001b[0;34m=\u001b[0m\u001b[0mcode\u001b[0m\u001b[0;34m)\u001b[0m\u001b[0;34m\u001b[0m\u001b[0;34m\u001b[0m\u001b[0m\n\u001b[1;32m      5\u001b[0m     \u001b[0mplt\u001b[0m\u001b[0;34m.\u001b[0m\u001b[0mlegend\u001b[0m\u001b[0;34m(\u001b[0m\u001b[0mloc\u001b[0m\u001b[0;34m=\u001b[0m\u001b[0;34m'upper right'\u001b[0m\u001b[0;34m,\u001b[0m\u001b[0mprop\u001b[0m\u001b[0;34m=\u001b[0m\u001b[0;34m{\u001b[0m\u001b[0;34m'size'\u001b[0m\u001b[0;34m:\u001b[0m \u001b[0;36m12\u001b[0m\u001b[0;34m}\u001b[0m\u001b[0;34m)\u001b[0m\u001b[0;34m\u001b[0m\u001b[0;34m\u001b[0m\u001b[0m\n",
      "\u001b[0;32m~/.pyenv/versions/anaconda3-2019.03/lib/python3.7/site-packages/numpy/core/fromnumeric.py\u001b[0m in \u001b[0;36mamax\u001b[0;34m(a, axis, out, keepdims, initial)\u001b[0m\n\u001b[1;32m   2503\u001b[0m     \"\"\"\n\u001b[1;32m   2504\u001b[0m     return _wrapreduction(a, np.maximum, 'max', axis, None, out, keepdims=keepdims,\n\u001b[0;32m-> 2505\u001b[0;31m                           initial=initial)\n\u001b[0m\u001b[1;32m   2506\u001b[0m \u001b[0;34m\u001b[0m\u001b[0m\n\u001b[1;32m   2507\u001b[0m \u001b[0;34m\u001b[0m\u001b[0m\n",
      "\u001b[0;32m~/.pyenv/versions/anaconda3-2019.03/lib/python3.7/site-packages/numpy/core/fromnumeric.py\u001b[0m in \u001b[0;36m_wrapreduction\u001b[0;34m(obj, ufunc, method, axis, dtype, out, **kwargs)\u001b[0m\n\u001b[1;32m     84\u001b[0m                 \u001b[0;32mreturn\u001b[0m \u001b[0mreduction\u001b[0m\u001b[0;34m(\u001b[0m\u001b[0maxis\u001b[0m\u001b[0;34m=\u001b[0m\u001b[0maxis\u001b[0m\u001b[0;34m,\u001b[0m \u001b[0mout\u001b[0m\u001b[0;34m=\u001b[0m\u001b[0mout\u001b[0m\u001b[0;34m,\u001b[0m \u001b[0;34m**\u001b[0m\u001b[0mpasskwargs\u001b[0m\u001b[0;34m)\u001b[0m\u001b[0;34m\u001b[0m\u001b[0;34m\u001b[0m\u001b[0m\n\u001b[1;32m     85\u001b[0m \u001b[0;34m\u001b[0m\u001b[0m\n\u001b[0;32m---> 86\u001b[0;31m     \u001b[0;32mreturn\u001b[0m \u001b[0mufunc\u001b[0m\u001b[0;34m.\u001b[0m\u001b[0mreduce\u001b[0m\u001b[0;34m(\u001b[0m\u001b[0mobj\u001b[0m\u001b[0;34m,\u001b[0m \u001b[0maxis\u001b[0m\u001b[0;34m,\u001b[0m \u001b[0mdtype\u001b[0m\u001b[0;34m,\u001b[0m \u001b[0mout\u001b[0m\u001b[0;34m,\u001b[0m \u001b[0;34m**\u001b[0m\u001b[0mpasskwargs\u001b[0m\u001b[0;34m)\u001b[0m\u001b[0;34m\u001b[0m\u001b[0;34m\u001b[0m\u001b[0m\n\u001b[0m\u001b[1;32m     87\u001b[0m \u001b[0;34m\u001b[0m\u001b[0m\n\u001b[1;32m     88\u001b[0m \u001b[0;34m\u001b[0m\u001b[0m\n",
      "\u001b[0;31mValueError\u001b[0m: zero-size array to reduction operation maximum which has no identity"
     ]
    },
    {
     "data": {
      "image/png": "[encoded data removed]",
      "text/plain": [
       "<Figure size 432x288 with 1 Axes>"
      ]
     },
     "metadata": {
      "needs_background": "light"
     },
     "output_type": "display_data"
    }
   ],
   "source": [
    "for code in codes:\n",
    "    \n",
    "    index_max = (np.where(M_FLM_BOC_FPu[code] == np.amax(M_FLM_BOC_FPu[code])))[0]\n",
    "    plt.plot([0,PWR_CYCLE[code]], [M_FLM_BOC_FPu[code][index_max],M_FLM_EOC_FPu[code][index_max]], colors[code], label=code)\n",
    "    plt.legend(loc='upper right',prop={'size': 12})\n",
    "\n",
    "    index_min = (np.where(M_FLM_BOC_FPu[code] == np.amin(M_FLM_BOC_FPu[code])))[0]\n",
    "    print(index_min)\n",
    "    plt.plot([0,PWR_CYCLE[code]], [M_FLM_BOC_FPu[code][index_min],M_FLM_EOC_FPu[code][index_min]], colors[code])\n"
   ]
  },
  {
   "cell_type": "markdown",
   "metadata": {},
   "source": [
    "#### RLM : \n",
    "\n",
    "#### ESTIMATOR_1['CLASS'] = B0 + B1 * M_FLM_BOC_PuDOE['CLASS'][:,1] + ... (1 Pu dégage car Somme = 1)\n",
    "\n",
    "#### ou\n",
    "\n",
    "#### ACP ?\n"
   ]
  },
  {
   "cell_type": "code",
   "execution_count": 18,
   "metadata": {},
   "outputs": [
    {
     "name": "stderr",
     "output_type": "stream",
     "text": [
      "/Users/thiollie/.pyenv/versions/anaconda3-2019.03/lib/python3.7/site-packages/numpy/lib/histograms.py:893: RuntimeWarning: invalid value encountered in true_divide\n",
      "  return n/db/n.sum(), bin_edges\n"
     ]
    },
    {
     "data": {
      "image/png": "[encoded data removed]",
      "text/plain": [
       "<Figure size 1152x720 with 5 Axes>"
      ]
     },
     "metadata": {
      "needs_background": "light"
     },
     "output_type": "display_data"
    }
   ],
   "source": [
    "bins = [75, 75, 75, 75, 75]\n",
    "\n",
    "plot_pu(M_FLM_BOC_FPu, M_FLM_EOC_FPu, bins=bins, labels=codes, range=(0,0.20))\n",
    "\n",
    "\n",
    "\n"
   ]
  },
  {
   "cell_type": "markdown",
   "metadata": {},
   "source": [
    "=> <span style=\"color:red\"> Why ANICCA/TrEvol has so small Pu consumption....?? </span>"
   ]
  },
  {
   "cell_type": "markdown",
   "metadata": {},
   "source": [
    "## 1.3 Mean value estimators"
   ]
  },
  {
   "cell_type": "code",
   "execution_count": 23,
   "metadata": {},
   "outputs": [
    {
     "name": "stdout",
     "output_type": "stream",
     "text": [
      "----------------------------------------\n",
      "Mean value\n",
      "----------------------------------------\n",
      "----- ANICCA -----\n",
      "FLM : \n",
      "Pu @BOC :  0.06994834834834834  - Pu @EOC :  0.05794634634634634\n",
      "FF : \n",
      "Pu @BOC :  0.07722542542542543  - Pu @EOC :  0.0610964964964965\n",
      "\n",
      "\n",
      "----------------------------------------\n",
      "Mean value\n",
      "----------------------------------------\n",
      "----- CLASS -----\n",
      "FLM : \n",
      "Pu @BOC :  0.0731411485068669  - Pu @EOC :  0.059852764346053015\n",
      "FF : \n",
      "Pu @BOC :  0.07061476282756687  - Pu @EOC :  0.057175506980181465\n",
      "\n",
      "\n",
      "----------------------------------------\n",
      "Mean value\n",
      "----------------------------------------\n",
      "----- COSI6 -----\n",
      "FLM : \n",
      "Pu @BOC :  0.08684521573301549  - Pu @EOC :  0.06431972914183552\n",
      "FF : \n",
      "Pu @BOC :  0.08262278814064362  - Pu @EOC :  0.06014177413587604\n",
      "\n",
      "\n",
      "----------------------------------------\n",
      "Mean value\n",
      "----------------------------------------\n",
      "----- CYCLUS -----\n",
      "FLM : \n",
      "Pu @BOC :  0.07940937971962646  - Pu @EOC :  0.06165874819625318\n",
      "FF : \n",
      "Pu @BOC :  0.07806999999999999  - Pu @EOC :  0.060308749917782296\n",
      "\n",
      "\n",
      "----------------------------------------\n",
      "Mean value\n",
      "----------------------------------------\n",
      "----- DYMOND -----\n",
      "FLM : \n",
      "Pu @BOC :  0.07879526572570833  - Pu @EOC :  0.05778029149230555\n",
      "FF : \n",
      "Pu @BOC :  0.07970881240751387  - Pu @EOC :  0.05730400893040277\n",
      "\n",
      "\n",
      "----------------------------------------\n",
      "Mean value\n",
      "----------------------------------------\n",
      "----- ORION -----\n",
      "FLM : \n",
      "Pu @BOC :  0.05634825052048686  - Pu @EOC :  0.047771603615879996\n",
      "FF : \n",
      "Pu @BOC :  0.05634000000000003  - Pu @EOC :  0.04671539344106\n",
      "\n",
      "\n",
      "----------------------------------------\n",
      "Mean value\n",
      "----------------------------------------\n",
      "----- TrEvol -----\n",
      "FLM : \n",
      "Pu @BOC :  0.06513092834223629  - Pu @EOC :  0.058175475367046404\n",
      "FF : \n",
      "Pu @BOC :  0.06756308184683545  - Pu @EOC :  0.057677995219831225\n",
      "\n",
      "\n",
      "----------------------------------------\n",
      "Standard Deviation\n",
      "----------------------------------------\n",
      "----- ANICCA -----\n",
      "FLM : \n",
      "Pu @BOC :  0.018049805268894725  - Pu @EOC :  0.011005223264580661\n",
      "FF : \n",
      "Pu @BOC :  0.0016030982871653584  - Pu @EOC :  0.001912405561791355\n",
      "\n",
      "\n",
      "----------------------------------------\n",
      "Standard Deviation\n",
      "----------------------------------------\n",
      "----- CLASS -----\n",
      "FLM : \n",
      "Pu @BOC :  0.024086692398663487  - Pu @EOC :  0.022582567186477626\n",
      "FF : \n",
      "Pu @BOC :  0.0014564120586288269  - Pu @EOC :  0.0009496298576981553\n",
      "\n",
      "\n",
      "----------------------------------------\n",
      "Standard Deviation\n",
      "----------------------------------------\n",
      "----- COSI6 -----\n",
      "FLM : \n",
      "Pu @BOC :  0.022611551211244384  - Pu @EOC :  0.020416311495558347\n",
      "FF : \n",
      "Pu @BOC :  4.669224680531991e-06  - Pu @EOC :  0.0009713459394503631\n",
      "\n",
      "\n",
      "----------------------------------------\n",
      "Standard Deviation\n",
      "----------------------------------------\n",
      "----- CYCLUS -----\n",
      "FLM : \n",
      "Pu @BOC :  0.016341950277220723  - Pu @EOC :  0.015016744851301169\n",
      "FF : \n",
      "Pu @BOC :  1.6154364966301536e-17  - Pu @EOC :  0.0007833498266529162\n",
      "\n",
      "\n",
      "----------------------------------------\n",
      "Standard Deviation\n",
      "----------------------------------------\n",
      "----- DYMOND -----\n",
      "FLM : \n",
      "Pu @BOC :  0.029868509269893675  - Pu @EOC :  0.025746050310084093\n",
      "FF : \n",
      "Pu @BOC :  0.0016729255785467322  - Pu @EOC :  0.0012865089621406948\n",
      "\n",
      "\n",
      "----------------------------------------\n",
      "Standard Deviation\n",
      "----------------------------------------\n",
      "----- ORION -----\n",
      "FLM : \n",
      "Pu @BOC :  0.018003376121995783  - Pu @EOC :  0.010285268714524412\n",
      "FF : \n",
      "Pu @BOC :  2.7755575615628914e-17  - Pu @EOC :  0.0011010423036015029\n",
      "\n",
      "\n",
      "----------------------------------------\n",
      "Standard Deviation\n",
      "----------------------------------------\n",
      "----- TrEvol -----\n",
      "FLM : \n",
      "Pu @BOC :  0.026974857757268957  - Pu @EOC :  0.01911910940256654\n",
      "FF : \n",
      "Pu @BOC :  0.0014076762114815621  - Pu @EOC :  0.0013668909536389338\n",
      "\n",
      "\n"
     ]
    }
   ],
   "source": [
    "for code in codes:\n",
    "    print_means_pu(code)\n",
    "\n",
    "for code in codes:\n",
    "    print_std_pu(code)"
   ]
  },
  {
   "cell_type": "markdown",
   "metadata": {},
   "source": [
    "<span style=\"color:red\"> WTF?? ANICCA EOC Pu fraction is higher than BOC ??</span>\n",
    "\n",
    "## 1.4 Plotting estimator 1\n",
    "\n",
    "Estimator 1 is calculated from the Pu fraction @ B.O.C. for each run *i*: \n",
    "\n",
    "$F(Pu_i) = \\frac{Pu_i^{BOC}}{M_{HN}}$\n",
    "\n",
    "With $M_{HN}$ the initial heavy mass. The estimator 1 is then calculated as : \n",
    "\n",
    "$\\delta F(Pu_i) = \\frac{F_{FLM}(Pu_i) - F_{FF}(Pu_i)}{F_{FF}(Pu_i)}$"
   ]
  },
  {
   "cell_type": "code",
   "execution_count": 24,
   "metadata": {},
   "outputs": [
    {
     "name": "stdout",
     "output_type": "stream",
     "text": [
      "coefficient of determination: 0.8764968762121818\n",
      "intercept: 2.671354077360293\n",
      "slope: [-0.661039 -3.587846 -0.267267 -4.610113]\n",
      "\n",
      "[[0.05 0.6  0.2  0.05]\n",
      " [0.01 0.8  0.1  0.02]]\n",
      "\n",
      "[ 0.201636 -0.324462]\n"
     ]
    }
   ],
   "source": [
    "x = M_FLM_BOC_PuDOE['CLASS'][:,[0,1,2,3]]\n",
    "y = ESTIMATOR_1['CLASS']\n",
    "\n",
    "model = LinearRegression().fit(x,y)\n",
    "r_sq = model.score(x,y)\n",
    "print('coefficient of determination:', r_sq)\n",
    "print('intercept:', model.intercept_)\n",
    "print('slope:', model.coef_)\n",
    "\n",
    "x_new = np.array([0.05,0.60,0.20, 0.05,0.01,0.80,0.10, 0.02]).reshape((-1, 4))\n",
    "print()\n",
    "print(x_new)\n",
    "print()\n",
    "print(model.predict(x_new))\n",
    "\n",
    "#\n",
    "# Sauf que c'est bizarre ici de raisonne ceteris paribus...\n",
    "# -> Sans doute faux..."
   ]
  },
  {
   "cell_type": "code",
   "execution_count": 27,
   "metadata": {},
   "outputs": [
    {
     "data": {
      "image/png": "[encoded data removed]",
      "text/plain": [
       "<Figure size 1152x720 with 7 Axes>"
      ]
     },
     "metadata": {
      "needs_background": "light"
     },
     "output_type": "display_data"
    },
    {
     "name": "stdout",
     "output_type": "stream",
     "text": [
      "----------------------------------------\n",
      "Mean value\n",
      "----------------------------------------\n",
      "----- ANICCA -----\n",
      "estimator :  -0.09335368633475526\n",
      "\n",
      "\n",
      "----------------------------------------\n",
      "Mean value\n",
      "----------------------------------------\n",
      "----- CLASS -----\n",
      "estimator :  0.03739098275956263\n",
      "\n",
      "\n",
      "----------------------------------------\n",
      "Mean value\n",
      "----------------------------------------\n",
      "----- COSI6 -----\n",
      "estimator :  0.05110502391565127\n",
      "\n",
      "\n",
      "----------------------------------------\n",
      "Mean value\n",
      "----------------------------------------\n",
      "----- CYCLUS -----\n",
      "estimator :  0.01715613833260487\n",
      "\n",
      "\n",
      "----------------------------------------\n",
      "Mean value\n",
      "----------------------------------------\n",
      "----- DYMOND -----\n",
      "estimator :  -0.009999278123504936\n",
      "\n",
      "\n",
      "----------------------------------------\n",
      "Mean value\n",
      "----------------------------------------\n",
      "----- ORION -----\n",
      "estimator :  0.0001464416131852988\n",
      "\n",
      "\n",
      "----------------------------------------\n",
      "Mean value\n",
      "----------------------------------------\n",
      "----- TrEvol -----\n",
      "estimator :  -0.03423830498803117\n",
      "\n",
      "\n",
      "----------------------------------------\n",
      "Standard Deviation\n",
      "----------------------------------------\n",
      "----- ANICCA -----\n",
      "estimator :  0.23695688209492255\n",
      "\n",
      "\n",
      "----------------------------------------\n",
      "Standard Deviation\n",
      "----------------------------------------\n",
      "----- CLASS -----\n",
      "estimator :  0.3461812771161111\n",
      "\n",
      "\n",
      "----------------------------------------\n",
      "Standard Deviation\n",
      "----------------------------------------\n",
      "----- COSI6 -----\n",
      "estimator :  0.2736727282436117\n",
      "\n",
      "\n",
      "----------------------------------------\n",
      "Standard Deviation\n",
      "----------------------------------------\n",
      "----- CYCLUS -----\n",
      "estimator :  0.20932432787524943\n",
      "\n",
      "\n",
      "----------------------------------------\n",
      "Standard Deviation\n",
      "----------------------------------------\n",
      "----- DYMOND -----\n",
      "estimator :  0.3803856889478845\n",
      "\n",
      "\n",
      "----------------------------------------\n",
      "Standard Deviation\n",
      "----------------------------------------\n",
      "----- ORION -----\n",
      "estimator :  0.3195487419594566\n",
      "\n",
      "\n",
      "----------------------------------------\n",
      "Standard Deviation\n",
      "----------------------------------------\n",
      "----- TrEvol -----\n",
      "estimator :  0.4051567825312623\n",
      "\n",
      "\n"
     ]
    }
   ],
   "source": [
    "codes = ['ANICCA', 'CLASS', 'COSI6', 'CYCLUS', 'DYMOND', 'ORION', 'TrEvol']\n",
    "bins = [50, 50, 50, 50, 50, 50, 50]\n",
    "plot_estimator(ESTIMATOR_1, bins=bins, labels=codes, title_label='PWR_MOX_Estimator_1', x_label='$\\delta F(Pu)$', y_label='Density',range=(-1.4,1.4))\n",
    "\n",
    "for code in codes:\n",
    "    print_means_estimator(code,ESTIMATOR_1)\n",
    "\n",
    "for code in codes:\n",
    "    print_std_estimator(code,ESTIMATOR_1)    "
   ]
  },
  {
   "cell_type": "markdown",
   "metadata": {},
   "source": [
    "## 1.5 Plotting Estimator 2\n",
    "\n",
    "The second estimator is related to the relative slope of the reactor evolution. Let's define :\n",
    "\n",
    "$\\frac{\\Delta M}{M}(Pu_i) = \\frac{M^{BOC}(Pu_i) - M^{EOC}(Pu_i)}{M^{BOC}(Pu_i)}$\n",
    "\n",
    "The estimateur 2 is then the relative difference of this observable : \n",
    "\n",
    "$\\delta \\frac{\\Delta M}{M}(Pu_i) = \\frac{\\frac{\\Delta M}{M}(Pu_i)_{FLM} - \\frac{\\Delta M}{M}(Pu_i)_{FF}}{\\frac{\\Delta M}{M}(Pu_i)_{FF}}$"
   ]
  },
  {
   "cell_type": "code",
   "execution_count": 28,
   "metadata": {},
   "outputs": [
    {
     "data": {
      "image/png": "[encoded data removed]",
      "text/plain": [
       "<Figure size 1152x720 with 7 Axes>"
      ]
     },
     "metadata": {
      "needs_background": "light"
     },
     "output_type": "display_data"
    },
    {
     "name": "stdout",
     "output_type": "stream",
     "text": [
      "----------------------------------------\n",
      "Mean value\n",
      "----------------------------------------\n",
      "----- ANICCA -----\n",
      "estimator :  -0.19231856601213154\n",
      "\n",
      "\n",
      "----------------------------------------\n",
      "Mean value\n",
      "----------------------------------------\n",
      "----- CLASS -----\n",
      "estimator :  0.007148906967313855\n",
      "\n",
      "\n",
      "----------------------------------------\n",
      "Mean value\n",
      "----------------------------------------\n",
      "----- COSI6 -----\n",
      "estimator :  -0.010545694864987841\n",
      "\n",
      "\n",
      "----------------------------------------\n",
      "Mean value\n",
      "----------------------------------------\n",
      "----- CYCLUS -----\n",
      "estimator :  0.004085908861234128\n",
      "\n",
      "\n",
      "----------------------------------------\n",
      "Mean value\n",
      "----------------------------------------\n",
      "----- DYMOND -----\n",
      "estimator :  -0.01706367808965364\n",
      "\n",
      "\n",
      "----------------------------------------\n",
      "Mean value\n",
      "----------------------------------------\n",
      "----- ORION -----\n",
      "estimator :  -0.1935574157129222\n",
      "\n",
      "\n",
      "----------------------------------------\n",
      "Mean value\n",
      "----------------------------------------\n",
      "----- TrEvol -----\n",
      "estimator :  -0.37427810970519626\n",
      "\n",
      "\n",
      "----------------------------------------\n",
      "Standard Deviation\n",
      "----------------------------------------\n",
      "----- ANICCA -----\n",
      "estimator :  0.36879899385378306\n",
      "\n",
      "\n",
      "----------------------------------------\n",
      "Standard Deviation\n",
      "----------------------------------------\n",
      "----- CLASS -----\n",
      "estimator :  0.13009780760393072\n",
      "\n",
      "\n",
      "----------------------------------------\n",
      "Standard Deviation\n",
      "----------------------------------------\n",
      "----- COSI6 -----\n",
      "estimator :  0.12147481866850914\n",
      "\n",
      "\n",
      "----------------------------------------\n",
      "Standard Deviation\n",
      "----------------------------------------\n",
      "----- CYCLUS -----\n",
      "estimator :  0.08835418594806888\n",
      "\n",
      "\n",
      "----------------------------------------\n",
      "Standard Deviation\n",
      "----------------------------------------\n",
      "----- DYMOND -----\n",
      "estimator :  0.0791368949174203\n",
      "\n",
      "\n",
      "----------------------------------------\n",
      "Standard Deviation\n",
      "----------------------------------------\n",
      "----- ORION -----\n",
      "estimator :  0.6241399158115005\n",
      "\n",
      "\n",
      "----------------------------------------\n",
      "Standard Deviation\n",
      "----------------------------------------\n",
      "----- TrEvol -----\n",
      "estimator :  0.7102740102977763\n",
      "\n",
      "\n"
     ]
    }
   ],
   "source": [
    "bins = [50, 50, 50, 50, 50, 50, 50]\n",
    "plot_estimator(ESTIMATOR_2, bins=bins, labels=codes, title_label='PWR_MOX_Estimator_2', x_label='$\\delta F(Pu)$', y_label='Density',range=(-2.0,1.4))\n",
    "\n",
    "for code in codes:\n",
    "    print_means_estimator(code,ESTIMATOR_2)\n",
    "\n",
    "for code in codes:\n",
    "    print_std_estimator(code,ESTIMATOR_2)    "
   ]
  },
  {
   "cell_type": "markdown",
   "metadata": {},
   "source": [
    "## 1.5 Plotting Estimator 3\n",
    "\n",
    "The third estimator is related to the absolute slope of the reactor evolution. we define :\n",
    "\n",
    "$\\frac{\\Delta M}{\\Delta t}(Pu_i) = \\frac{M^{BOC}(Pu_i) - M^{EOC}(Pu_i)}{\\Delta t}$\n",
    "\n",
    "The estimateur 3 is then the relative difference of this observable : \n",
    "\n",
    "$\\delta \\frac{\\Delta M}{\\Delta t}(Pu_i) = \\frac{\\frac{\\Delta M}{\\Delta t}(Pu_i)_{FLM} - \\frac{\\Delta M}{\\Delta t}(Pu_i)_{FF}}{\\frac{\\Delta M}{\\Delta t}(Pu_i)_{FF}}$"
   ]
  },
  {
   "cell_type": "code",
   "execution_count": 29,
   "metadata": {},
   "outputs": [
    {
     "data": {
      "image/png": "[encoded data removed]",
      "text/plain": [
       "<Figure size 1152x720 with 7 Axes>"
      ]
     },
     "metadata": {
      "needs_background": "light"
     },
     "output_type": "display_data"
    },
    {
     "name": "stdout",
     "output_type": "stream",
     "text": [
      "----------------------------------------\n",
      "Mean value\n",
      "----------------------------------------\n",
      "----- ANICCA -----\n",
      "estimator :  -0.181664933963061\n",
      "\n",
      "\n",
      "----------------------------------------\n",
      "Mean value\n",
      "----------------------------------------\n",
      "----- CLASS -----\n",
      "estimator :  0.000793128085057769\n",
      "\n",
      "\n",
      "----------------------------------------\n",
      "Mean value\n",
      "----------------------------------------\n",
      "----- COSI6 -----\n",
      "estimator :  0.007049901216045227\n",
      "\n",
      "\n",
      "----------------------------------------\n",
      "Mean value\n",
      "----------------------------------------\n",
      "----- CYCLUS -----\n",
      "estimator :  0.003083003497693526\n",
      "\n",
      "\n",
      "----------------------------------------\n",
      "Mean value\n",
      "----------------------------------------\n",
      "----- DYMOND -----\n",
      "estimator :  -0.055659143583595305\n",
      "\n",
      "\n",
      "----------------------------------------\n",
      "Mean value\n",
      "----------------------------------------\n",
      "----- ORION -----\n",
      "estimator :  -0.011533578759886183\n",
      "\n",
      "\n",
      "----------------------------------------\n",
      "Mean value\n",
      "----------------------------------------\n",
      "----- TrEvol -----\n",
      "estimator :  -0.14445334673456878\n",
      "\n",
      "\n",
      "----------------------------------------\n",
      "Standard Deviation\n",
      "----------------------------------------\n",
      "----- ANICCA -----\n",
      "estimator :  0.6218848666286375\n",
      "\n",
      "\n",
      "----------------------------------------\n",
      "Standard Deviation\n",
      "----------------------------------------\n",
      "----- CLASS -----\n",
      "estimator :  0.18299558680262493\n",
      "\n",
      "\n",
      "----------------------------------------\n",
      "Standard Deviation\n",
      "----------------------------------------\n",
      "----- COSI6 -----\n",
      "estimator :  0.13717653415753484\n",
      "\n",
      "\n",
      "----------------------------------------\n",
      "Standard Deviation\n",
      "----------------------------------------\n",
      "----- CYCLUS -----\n",
      "estimator :  0.11066215685141603\n",
      "\n",
      "\n",
      "----------------------------------------\n",
      "Standard Deviation\n",
      "----------------------------------------\n",
      "----- DYMOND -----\n",
      "estimator :  0.2306266537065179\n",
      "\n",
      "\n",
      "----------------------------------------\n",
      "Standard Deviation\n",
      "----------------------------------------\n",
      "----- ORION -----\n",
      "estimator :  1.0023892231494784\n",
      "\n",
      "\n",
      "----------------------------------------\n",
      "Standard Deviation\n",
      "----------------------------------------\n",
      "----- TrEvol -----\n",
      "estimator :  1.0808161372786795\n",
      "\n",
      "\n"
     ]
    }
   ],
   "source": [
    "bins = [50, 50, 50, 50, 50, 50, 50]\n",
    "plot_estimator(ESTIMATOR_3, bins=bins, labels=codes, title_label='PWR_MOX_Estimator_3', x_label='$\\delta F(Pu)$', y_label='Density',range=(-2.0,3.0))\n",
    "\n",
    "for code in codes:\n",
    "    print_means_estimator(code,ESTIMATOR_3)\n",
    "\n",
    "for code in codes:\n",
    "    print_std_estimator(code,ESTIMATOR_3)    "
   ]
  },
  {
   "cell_type": "code",
   "execution_count": null,
   "metadata": {},
   "outputs": [],
   "source": []
  }
 ],
 "metadata": {
  "kernelspec": {
   "display_name": "Python 3",
   "language": "python",
   "name": "python3"
  },
  "language_info": {
   "codemirror_mode": {
    "name": "ipython",
    "version": 3
   },
   "file_extension": ".py",
   "mimetype": "text/x-python",
   "name": "python",
   "nbconvert_exporter": "python",
   "pygments_lexer": "ipython3",
   "version": "3.7.3"
  }
 },
 "nbformat": 4,
 "nbformat_minor": 4
}
